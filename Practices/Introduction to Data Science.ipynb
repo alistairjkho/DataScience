{
 "cells": [
  {
   "cell_type": "code",
   "execution_count": null,
   "metadata": {},
   "outputs": [],
   "source": [
    "# Introduction to data science \n",
    "\n",
    "This kernel is designed to get someone started with the fundamentals in data science. It covers data types, syntaxes and \n",
    "\n",
    "# Refer to help at docs.python.org/3\n",
    "# Lutz, Mark. Learning Python: Powerful Object-Oriented Programming. \" O'Reilly Media, Inc.\", 2013.\n",
    "# Ana Bell, Eric Grimson and John Guttag.  Introduction to Computer Science and Programming in Python, MIT Open Course Ware, MIT 2017"
   ]
  },
  {
   "cell_type": "markdown",
   "metadata": {},
   "source": []
  },
  {
   "cell_type": "code",
   "execution_count": null,
   "metadata": {},
   "outputs": [],
   "source": [
    "print('hello')"
   ]
  },
  {
   "cell_type": "code",
   "execution_count": null,
   "metadata": {},
   "outputs": [],
   "source": [
    "print('hello\\nWorld!')"
   ]
  },
  {
   "cell_type": "code",
   "execution_count": null,
   "metadata": {},
   "outputs": [],
   "source": [
    "bool(1)"
   ]
  },
  {
   "cell_type": "code",
   "execution_count": null,
   "metadata": {},
   "outputs": [],
   "source": [
    "x=('1')\n",
    "y=i \n",
    "type(y)"
   ]
  },
  {
   "cell_type": "code",
   "execution_count": null,
   "metadata": {},
   "outputs": [],
   "source": [
    "Name=\"Michael Jackson\"\n",
    "Name[-1]"
   ]
  },
  {
   "cell_type": "code",
   "execution_count": null,
   "metadata": {},
   "outputs": [],
   "source": [
    "Name[0]"
   ]
  },
  {
   "cell_type": "code",
   "execution_count": null,
   "metadata": {},
   "outputs": [],
   "source": [
    "Name[-2]"
   ]
  },
  {
   "cell_type": "code",
   "execution_count": null,
   "metadata": {},
   "outputs": [],
   "source": [
    "Name[0:4]"
   ]
  },
  {
   "cell_type": "code",
   "execution_count": null,
   "metadata": {},
   "outputs": [],
   "source": [
    "Name[5:10]"
   ]
  },
  {
   "cell_type": "code",
   "execution_count": null,
   "metadata": {},
   "outputs": [],
   "source": [
    "Name[::2]"
   ]
  },
  {
   "cell_type": "code",
   "execution_count": null,
   "metadata": {},
   "outputs": [],
   "source": [
    "len(Name)"
   ]
  },
  {
   "cell_type": "code",
   "execution_count": null,
   "metadata": {},
   "outputs": [],
   "source": [
    "Statement = Name + \" Is the best\"\n",
    "print(Statement)"
   ]
  },
  {
   "cell_type": "code",
   "execution_count": null,
   "metadata": {},
   "outputs": [],
   "source": [
    "3*Name"
   ]
  },
  {
   "cell_type": "code",
   "execution_count": null,
   "metadata": {},
   "outputs": [],
   "source": [
    "print(Name+\" Hello \\t hi \\n wow\\\\hehe\")"
   ]
  },
  {
   "cell_type": "markdown",
   "metadata": {},
   "source": [
    "# Methods to replace string"
   ]
  },
  {
   "cell_type": "code",
   "execution_count": null,
   "metadata": {},
   "outputs": [],
   "source": [
    "UpperName=Name.upper()\n",
    "print(UpperName)"
   ]
  },
  {
   "cell_type": "code",
   "execution_count": null,
   "metadata": {},
   "outputs": [],
   "source": [
    "ReplaceName=Name.replace('Michael','Janet')\n",
    "print(ReplaceName)"
   ]
  },
  {
   "cell_type": "code",
   "execution_count": null,
   "metadata": {},
   "outputs": [],
   "source": [
    "Name.find('el')"
   ]
  },
  {
   "cell_type": "code",
   "execution_count": null,
   "metadata": {},
   "outputs": [],
   "source": [
    "print(Name)"
   ]
  },
  {
   "cell_type": "markdown",
   "metadata": {},
   "source": [
    "# Tuples and lists"
   ]
  },
  {
   "cell_type": "code",
   "execution_count": null,
   "metadata": {},
   "outputs": [],
   "source": [
    "tuple1 = (10, 9, 6, 5, 10, 8, 9, 6, 2)"
   ]
  },
  {
   "cell_type": "code",
   "execution_count": null,
   "metadata": {},
   "outputs": [],
   "source": [
    "tuple2 = ('disco', 10, 1.2)\n",
    "type(tuple2)"
   ]
  },
  {
   "cell_type": "code",
   "execution_count": null,
   "metadata": {},
   "outputs": [],
   "source": [
    "tuple2[0]"
   ]
  },
  {
   "cell_type": "code",
   "execution_count": null,
   "metadata": {},
   "outputs": [],
   "source": [
    "tuple2[1]"
   ]
  },
  {
   "cell_type": "code",
   "execution_count": null,
   "metadata": {},
   "outputs": [],
   "source": [
    "tuple2[-3]"
   ]
  },
  {
   "cell_type": "code",
   "execution_count": null,
   "metadata": {},
   "outputs": [],
   "source": [
    "tuple3 = tuple1 + tuple2\n",
    "print(tuple3)"
   ]
  },
  {
   "cell_type": "markdown",
   "metadata": {},
   "source": [
    "## Slicing Tuples"
   ]
  },
  {
   "cell_type": "code",
   "execution_count": null,
   "metadata": {},
   "outputs": [],
   "source": [
    "tuple3[3:5]"
   ]
  },
  {
   "cell_type": "code",
   "execution_count": null,
   "metadata": {},
   "outputs": [],
   "source": [
    "len(tuple3)"
   ]
  },
  {
   "cell_type": "code",
   "execution_count": null,
   "metadata": {},
   "outputs": [],
   "source": [
    "tuple1_sorted=sorted(tuple1)\n",
    "print(tuple1_sorted)"
   ]
  },
  {
   "cell_type": "markdown",
   "metadata": {},
   "source": [
    "# Nesting"
   ]
  },
  {
   "cell_type": "code",
   "execution_count": null,
   "metadata": {},
   "outputs": [],
   "source": [
    "NT=(1,2,(\"pop\",\"rock\"),(3,4),(\"disco\",(1,2)))"
   ]
  },
  {
   "cell_type": "code",
   "execution_count": null,
   "metadata": {},
   "outputs": [],
   "source": [
    "NT[2]"
   ]
  },
  {
   "cell_type": "code",
   "execution_count": null,
   "metadata": {},
   "outputs": [],
   "source": [
    "NT[2][1]"
   ]
  },
  {
   "cell_type": "code",
   "execution_count": null,
   "metadata": {},
   "outputs": [],
   "source": [
    "NT[2][1][0]"
   ]
  },
  {
   "cell_type": "markdown",
   "metadata": {},
   "source": [
    "# Lists"
   ]
  },
  {
   "cell_type": "code",
   "execution_count": null,
   "metadata": {},
   "outputs": [],
   "source": [
    "Name=\"Michel Jacksen\"\n",
    "    \n",
    "L=[Name,10.1,1982]"
   ]
  },
  {
   "cell_type": "code",
   "execution_count": null,
   "metadata": {},
   "outputs": [],
   "source": [
    "L[0]"
   ]
  },
  {
   "cell_type": "code",
   "execution_count": null,
   "metadata": {},
   "outputs": [],
   "source": [
    "L[:]"
   ]
  },
  {
   "cell_type": "code",
   "execution_count": null,
   "metadata": {},
   "outputs": [],
   "source": [
    "L.extend([\"pop\",10]) #adds based on number of elements\n",
    "print(L)"
   ]
  },
  {
   "cell_type": "code",
   "execution_count": null,
   "metadata": {},
   "outputs": [],
   "source": [
    "L.append([\"pop\",10]) #adds as one element\n",
    "print(L)"
   ]
  },
  {
   "cell_type": "code",
   "execution_count": null,
   "metadata": {},
   "outputs": [],
   "source": [
    "L[0]=\"hard rock\" #adding 1 more to the list at the beginning (or wherever the character is to be inserted)\n",
    "L"
   ]
  },
  {
   "cell_type": "code",
   "execution_count": null,
   "metadata": {},
   "outputs": [],
   "source": [
    "del(L[0]) #removing the first element of the list\n",
    "L"
   ]
  },
  {
   "cell_type": "code",
   "execution_count": null,
   "metadata": {},
   "outputs": [],
   "source": [
    "\"hard rock\".split()"
   ]
  },
  {
   "cell_type": "code",
   "execution_count": null,
   "metadata": {},
   "outputs": [],
   "source": [
    "\"A,B,C,D\".split(\",\") #Creates a list which separates each delimiter with an element"
   ]
  },
  {
   "cell_type": "code",
   "execution_count": null,
   "metadata": {},
   "outputs": [],
   "source": [
    "M=L[:] #CLoning lists\n",
    "M"
   ]
  },
  {
   "cell_type": "code",
   "execution_count": null,
   "metadata": {},
   "outputs": [],
   "source": [
    "help(L) #get help on the name"
   ]
  },
  {
   "cell_type": "code",
   "execution_count": null,
   "metadata": {},
   "outputs": [],
   "source": [
    "help(tuple1)"
   ]
  },
  {
   "cell_type": "markdown",
   "metadata": {},
   "source": [
    "# Sets - like a collection - like lists and tuples but do not record element position"
   ]
  },
  {
   "cell_type": "code",
   "execution_count": null,
   "metadata": {},
   "outputs": [],
   "source": [
    "Set1={\"pop\",\"soul\",\"rock\",\"hard rock\",\"rock\",\"R&B\",\"rock\",\"disco\"} #notice that there are duplicate items, these won't be actually considered in the set\n",
    "Set1"
   ]
  },
  {
   "cell_type": "code",
   "execution_count": null,
   "metadata": {},
   "outputs": [],
   "source": [
    "Set2=set(L) #convert a list to a set\n",
    "Set2"
   ]
  },
  {
   "cell_type": "code",
   "execution_count": 1,
   "metadata": {},
   "outputs": [
    {
     "name": "stdout",
     "output_type": "stream",
     "text": [
      "[(1, 2, 3), (2, 5, 8)]\n",
      "{(2, 5, 8), (1, 2, 3)}\n"
     ]
    }
   ],
   "source": [
    "# Attempting to combine a list into a set, but it doesn't work :(\n",
    "\n",
    "\n",
    "a=[(1,2,3),(2,5,8)]\n",
    "\n",
    "print(a)\n",
    "\n",
    "b=set(a)\n",
    "\n",
    "print(b)"
   ]
  },
  {
   "cell_type": "markdown",
   "metadata": {},
   "source": [
    "# Set operations"
   ]
  },
  {
   "cell_type": "code",
   "execution_count": null,
   "metadata": {},
   "outputs": [],
   "source": [
    "Set1.add(\"Jazz\")\n",
    "Set1"
   ]
  },
  {
   "cell_type": "code",
   "execution_count": null,
   "metadata": {},
   "outputs": [],
   "source": [
    "Set3={\"pop\",\"rock\",\"rockers\",\"poppers\"}"
   ]
  },
  {
   "cell_type": "code",
   "execution_count": null,
   "metadata": {},
   "outputs": [],
   "source": [
    "Set4=Set1&Set3 #Takes on the COMMON elements in both sets into a new set\n",
    "print(Set1)\n",
    "print(Set3)\n",
    "print(Set4)"
   ]
  },
  {
   "cell_type": "code",
   "execution_count": null,
   "metadata": {},
   "outputs": [],
   "source": [
    "Set4=Set1.union(Set3) #COMBINES elements of both sets into a new set\n",
    "Set4"
   ]
  },
  {
   "cell_type": "code",
   "execution_count": null,
   "metadata": {},
   "outputs": [],
   "source": [
    "Set1.issubset(Set4) #is Set1 part of Set4"
   ]
  },
  {
   "cell_type": "markdown",
   "metadata": {},
   "source": [
    "# Dictionaries - contains keys and values"
   ]
  },
  {
   "cell_type": "code",
   "execution_count": null,
   "metadata": {},
   "outputs": [],
   "source": [
    "D={'a':22,'b':34,'c':14} #key associated with a value"
   ]
  },
  {
   "cell_type": "code",
   "execution_count": null,
   "metadata": {},
   "outputs": [],
   "source": [
    "D['a'] #finds value of the key"
   ]
  },
  {
   "cell_type": "code",
   "execution_count": null,
   "metadata": {},
   "outputs": [],
   "source": [
    "D['d']=87 #add a new key & value to dictionary D\n",
    "D"
   ]
  },
  {
   "cell_type": "code",
   "execution_count": null,
   "metadata": {},
   "outputs": [],
   "source": [
    "del(D['d']) #remove the key 'd' in dictionary D\n",
    "D"
   ]
  },
  {
   "cell_type": "code",
   "execution_count": null,
   "metadata": {},
   "outputs": [],
   "source": [
    "if 'a' in D: #checking if the key is in the dictgionary\n",
    "    print('found it!')"
   ]
  },
  {
   "cell_type": "code",
   "execution_count": null,
   "metadata": {},
   "outputs": [],
   "source": [
    "D.keys() #find out what the keys are in the dictionary"
   ]
  },
  {
   "cell_type": "code",
   "execution_count": null,
   "metadata": {},
   "outputs": [],
   "source": [
    "D.values() #find out what values are in the dictionary"
   ]
  },
  {
   "cell_type": "code",
   "execution_count": null,
   "metadata": {},
   "outputs": [],
   "source": [
    "print(D) #find out all keys and values in dictionary"
   ]
  },
  {
   "cell_type": "markdown",
   "metadata": {},
   "source": [
    "# Conditions and Branching"
   ]
  },
  {
   "cell_type": "code",
   "execution_count": null,
   "metadata": {},
   "outputs": [],
   "source": [
    "a=6"
   ]
  },
  {
   "cell_type": "code",
   "execution_count": null,
   "metadata": {},
   "outputs": [],
   "source": [
    "a==7 #validating the value"
   ]
  },
  {
   "cell_type": "code",
   "execution_count": null,
   "metadata": {},
   "outputs": [],
   "source": [
    "b=7"
   ]
  },
  {
   "cell_type": "code",
   "execution_count": null,
   "metadata": {},
   "outputs": [],
   "source": [
    "b>7"
   ]
  },
  {
   "cell_type": "code",
   "execution_count": null,
   "metadata": {},
   "outputs": [],
   "source": [
    "b>=7 #equals or greater than"
   ]
  },
  {
   "cell_type": "code",
   "execution_count": null,
   "metadata": {},
   "outputs": [],
   "source": [
    "b!=6 #not equals to"
   ]
  },
  {
   "cell_type": "code",
   "execution_count": null,
   "metadata": {},
   "outputs": [],
   "source": [
    "\"AC/DC\"==\"Michael Jackson\""
   ]
  },
  {
   "cell_type": "code",
   "execution_count": null,
   "metadata": {},
   "outputs": [],
   "source": [
    "\"AC/DC\"!=\"Michael Jackson\""
   ]
  },
  {
   "cell_type": "markdown",
   "metadata": {},
   "source": [
    "# If Statements"
   ]
  },
  {
   "cell_type": "code",
   "execution_count": null,
   "metadata": {},
   "outputs": [],
   "source": [
    "age=18\n",
    "\n",
    "if(age>=18):\n",
    "    print(\"you can enter\")\n",
    "\n",
    "else:\n",
    "    print(\"go see Meat Loaf\")\n",
    "    \n",
    "print(\"move on\")"
   ]
  },
  {
   "cell_type": "code",
   "execution_count": null,
   "metadata": {},
   "outputs": [],
   "source": [
    "if (age>18):\n",
    "    print(\"you can enter\")\n",
    "\n",
    "elif(age==18): #elseif\n",
    "    print(\"go see Pink Floyd\")\n",
    "    \n",
    "else:\n",
    "    print(\"go see Meat Loaf\")\n",
    "\n",
    "print(\"move on\")"
   ]
  },
  {
   "cell_type": "markdown",
   "metadata": {},
   "source": [
    "# Logic Operators - take boolean values to produce different boolean values"
   ]
  },
  {
   "cell_type": "code",
   "execution_count": null,
   "metadata": {},
   "outputs": [],
   "source": [
    "album_year = 1985\n",
    "\n",
    "if (album_year<1980) or (album_year>1989):\n",
    "    \n",
    "    print(\"The Album was made in the 70's or 90's\")\n",
    "\n",
    "else:\n",
    "    \n",
    "    print(\"The Album was made in the 1980's\")"
   ]
  },
  {
   "cell_type": "code",
   "execution_count": null,
   "metadata": {},
   "outputs": [],
   "source": [
    "if (album_year>1979) and (album_year<1990):\n",
    "    print(\"This Album was made in the 80's\")"
   ]
  },
  {
   "cell_type": "markdown",
   "metadata": {},
   "source": [
    "<img src=\"https://i.kym-cdn.com/photos/images/newsfeed/001/340/531/04c.gif\" width=\"500\" />"
   ]
  },
  {
   "cell_type": "markdown",
   "metadata": {},
   "source": [
    "# Loops (for loops, while loops)"
   ]
  },
  {
   "cell_type": "code",
   "execution_count": null,
   "metadata": {},
   "outputs": [],
   "source": [
    "i=range(10,15) #range in a sequence [10,11,12,13,14]\n",
    "print(i)"
   ]
  },
  {
   "cell_type": "code",
   "execution_count": null,
   "metadata": {},
   "outputs": [],
   "source": [
    "# For loop example\n",
    "\n",
    "dates = [1982,1980,1973,1923,1824]\n",
    "N = len(dates)\n",
    "\n",
    "print(N)\n",
    "\n",
    "for i in range(N):\n",
    "    print(dates[i])     "
   ]
  },
  {
   "cell_type": "code",
   "execution_count": null,
   "metadata": {},
   "outputs": [],
   "source": [
    "dates = [1982,1980,1973,1923,1824]\n",
    "\n",
    "for i in dates:\n",
    "    print(i)"
   ]
  },
  {
   "cell_type": "code",
   "execution_count": null,
   "metadata": {},
   "outputs": [],
   "source": [
    "# Example of for loop\n",
    "\n",
    "for i in range(0, 8):\n",
    "    print(i)"
   ]
  },
  {
   "cell_type": "code",
   "execution_count": null,
   "metadata": {},
   "outputs": [],
   "source": [
    "# Example of for loop, loop through list\n",
    "\n",
    "for year in dates: #prints the full range of dates\n",
    "    print(year)   "
   ]
  },
  {
   "cell_type": "code",
   "execution_count": null,
   "metadata": {},
   "outputs": [],
   "source": [
    "squares=[\"red\",\"yellow\",\"green\",\"purple\",\"blue\"]\n",
    "\n",
    "print(squares)\n",
    "\n",
    "for i in range(2,4): #replace the list with value\n",
    "    squares[i]='white'\n",
    "    \n",
    "print(squares)"
   ]
  },
  {
   "cell_type": "code",
   "execution_count": null,
   "metadata": {},
   "outputs": [],
   "source": [
    "squares=[\"red\",\"yellow\",\"green\"]\n",
    "\n",
    "for i,square in enumerate(squares): #enumerate can be used to obtain the index and the element in the list, i is the index, square is the element in that index\n",
    "    \n",
    "    print(square, i) #note that this is singular (not plural)\n",
    "    \n",
    "print(squares)"
   ]
  },
  {
   "cell_type": "code",
   "execution_count": null,
   "metadata": {},
   "outputs": [],
   "source": [
    "squares2=['orange','orange','purple','blue']\n",
    "\n",
    "Newsquares=[]\n",
    "            \n",
    "i=0\n",
    "\n",
    "while(squares2[i]=='orange'):\n",
    "    \n",
    "    Newsquares.append(squares2[i])\n",
    "    \n",
    "    i=i+1\n",
    "\n",
    "print(Newsquares)"
   ]
  },
  {
   "cell_type": "code",
   "execution_count": null,
   "metadata": {},
   "outputs": [],
   "source": [
    "# Use for loop to change the elements in list\n",
    "\n",
    "squares = ['red', 'yellow', 'green', 'purple', 'blue']\n",
    "\n",
    "for i in range(0, 5):\n",
    "    print(\"Before square \", i, 'is',  squares[i])\n",
    "    squares[i] = 'weight'\n",
    "    print(\"After square \", i, 'is',  squares[i])"
   ]
  },
  {
   "cell_type": "code",
   "execution_count": null,
   "metadata": {},
   "outputs": [],
   "source": [
    "A=[3,4,5]\n",
    "\n",
    "for a in A: #prints the values, not the associated index, needs enumerate\n",
    "    print(a)"
   ]
  },
  {
   "cell_type": "code",
   "execution_count": null,
   "metadata": {},
   "outputs": [],
   "source": [
    "# While Loop Example\n",
    "\n",
    "dates = [1982, 1980, 1973, 2000]\n",
    "\n",
    "i = 0\n",
    "year = 0\n",
    "\n",
    "while(year != 1973):\n",
    "    year = dates[i]\n",
    "    i = i + 1\n",
    "    print(year)\n",
    "\n",
    "print(\"It took \", i ,\"repetitions to get out of loop.\")"
   ]
  },
  {
   "cell_type": "code",
   "execution_count": null,
   "metadata": {},
   "outputs": [],
   "source": [
    "#Print the elements in the list\n",
    "\n",
    "Genres=['rock', 'R&B', 'Soundtrack', 'R&B', 'soul', 'pop']\n",
    "N=len(Genres)\n",
    "\n",
    "for i in range(N):\n",
    "    print(Genres[i])"
   ]
  },
  {
   "cell_type": "code",
   "execution_count": null,
   "metadata": {},
   "outputs": [],
   "source": [
    "#quicker way to go through items on the list\n",
    "\n",
    "Genres=['rock', 'R&B', 'Soundtrack', 'R&B', 'soul', 'pop']\n",
    "\n",
    "for Genre in Genres:\n",
    "    print(Genre)"
   ]
  },
  {
   "cell_type": "code",
   "execution_count": null,
   "metadata": {},
   "outputs": [],
   "source": [
    "PlayListRatings = [10, 9.5, 10, 8, 7.5, 5, 10, 10]\n",
    "i = 1\n",
    "Rating = PlayListRatings[0]\n",
    "while(Rating >= 6):\n",
    "    print(Rating)\n",
    "    Rating = PlayListRatings[i]\n",
    "    i = i + 1\n",
    "    \n",
    "S=sum(PlayListRatings)\n",
    "\n",
    "print(S)"
   ]
  },
  {
   "cell_type": "markdown",
   "metadata": {},
   "source": [
    "# Functions"
   ]
  },
  {
   "cell_type": "code",
   "execution_count": null,
   "metadata": {},
   "outputs": [],
   "source": [
    "#sum function\n",
    "PlayListRatings = [10, 9.5, 10, 8, 7.5, 5, 10, 10]\n",
    "PLR = PlayListRatings\n",
    "S=sum(PlayListRatings)"
   ]
  },
  {
   "cell_type": "code",
   "execution_count": null,
   "metadata": {},
   "outputs": [],
   "source": [
    "sorted_PLR=sorted(PLR) #creates a new list of sorted\n",
    "print(sorted_PLR)"
   ]
  },
  {
   "cell_type": "code",
   "execution_count": null,
   "metadata": {},
   "outputs": [],
   "source": [
    "# Sorts list\n",
    "PLR.sort() #doesn't create a new list, but modifies existing list \n",
    "print(PLR)"
   ]
  },
  {
   "cell_type": "code",
   "execution_count": null,
   "metadata": {},
   "outputs": [],
   "source": [
    "# Reverses list\n",
    "PLR.reverse()\n",
    "print(PLR)"
   ]
  },
  {
   "cell_type": "code",
   "execution_count": null,
   "metadata": {},
   "outputs": [],
   "source": [
    "# Making your own function\n",
    "\n",
    "def add1(a): #def defines a function \n",
    "    \"\"\"add 1 to a\"\"\" #adds a help to the function\n",
    "    \n",
    "    b=a+1\n",
    "    \n",
    "    return b"
   ]
  },
  {
   "cell_type": "code",
   "execution_count": null,
   "metadata": {},
   "outputs": [],
   "source": [
    "add1(5) #call function"
   ]
  },
  {
   "cell_type": "code",
   "execution_count": null,
   "metadata": {},
   "outputs": [],
   "source": [
    "c=add1(10)\n",
    "c"
   ]
  },
  {
   "cell_type": "code",
   "execution_count": null,
   "metadata": {},
   "outputs": [],
   "source": [
    "help(add1) #explains what the function does"
   ]
  },
  {
   "cell_type": "code",
   "execution_count": null,
   "metadata": {},
   "outputs": [],
   "source": [
    "# Multiplying function\n",
    "\n",
    "def Mult(a,b):\n",
    "    \"\"\"Multiplies one value with another\"\"\"\n",
    "    c=a*b\n",
    "    return c"
   ]
  },
  {
   "cell_type": "code",
   "execution_count": null,
   "metadata": {},
   "outputs": [],
   "source": [
    "Mult(2,'Michael Jackson')"
   ]
  },
  {
   "cell_type": "code",
   "execution_count": null,
   "metadata": {},
   "outputs": [],
   "source": [
    "help(Mult)"
   ]
  },
  {
   "cell_type": "code",
   "execution_count": null,
   "metadata": {},
   "outputs": [],
   "source": [
    "def MJ():\n",
    "    print('Michael Jackson')\n",
    "    \n",
    "MJ()"
   ]
  },
  {
   "cell_type": "code",
   "execution_count": null,
   "metadata": {},
   "outputs": [],
   "source": [
    "# loops in functions\n",
    "\n",
    "def printStuff(Stuff):\n",
    "    \n",
    "    for i,s in enumerate(Stuff):\n",
    "        print(\"Album\", i, \"Rating is \",s)\n",
    "        \n",
    "album_ratings=[10.0, 8.5, 9.5]\n",
    "\n",
    "printStuff(album_ratings)"
   ]
  },
  {
   "cell_type": "code",
   "execution_count": null,
   "metadata": {},
   "outputs": [],
   "source": [
    "def f(c):\n",
    "    return sum(c)\n",
    "\n",
    "f(PLR)"
   ]
  },
  {
   "cell_type": "markdown",
   "metadata": {},
   "source": [
    "# Creating Classes"
   ]
  },
  {
   "cell_type": "code",
   "execution_count": null,
   "metadata": {},
   "outputs": [],
   "source": [
    "class Circle(object): #define your class\n",
    "    \n",
    "#data attributes used to initialise each instance of the class\n",
    "\n",
    "    def __init__(self,radius,color): #init is a constructor, a special function on python to tell it you are making a new class, make sure it's __init__ not _init_\n",
    "        self.radius=radius;\n",
    "        self.color=color;\n",
    "        \n",
    "    def add_radius(self,r):\n",
    "        self.radius = self.radius+r"
   ]
  },
  {
   "cell_type": "code",
   "execution_count": null,
   "metadata": {},
   "outputs": [],
   "source": [
    "C1 = Circle(10,\"red\")\n",
    "\n",
    "C1.radius\n",
    "C1.color\n",
    "\n",
    "dir(Circle)"
   ]
  },
  {
   "cell_type": "code",
   "execution_count": null,
   "metadata": {},
   "outputs": [],
   "source": [
    "C1.color=\"blue\" #changing the data attribute\n",
    "C1.color"
   ]
  },
  {
   "cell_type": "code",
   "execution_count": null,
   "metadata": {},
   "outputs": [],
   "source": [
    "C2=Circle(2,'red')\n",
    "\n",
    "C2.add_radius(8)\n",
    "\n",
    "C2.radius\n",
    "\n",
    "C2.color"
   ]
  },
  {
   "cell_type": "code",
   "execution_count": null,
   "metadata": {},
   "outputs": [],
   "source": [
    "class Rectangle(object): #define your class\n",
    "    \n",
    "#data attributes used to initialise each instance of the class\n",
    "\n",
    "    def _init_(self,color, height, width): #init is a constructor, a special function on python to tell it you are making a new class\n",
    "        self.height=height;\n",
    "        self.width=width;\n",
    "        self.color=color;"
   ]
  },
  {
   "cell_type": "code",
   "execution_count": null,
   "metadata": {},
   "outputs": [],
   "source": [
    "class Car(object):\n",
    "    def __init__(self,make,model,color):\n",
    "        self.make=make;\n",
    "        self.model=model;\n",
    "        self.color=color;\n",
    "        self.owner_number=0 \n",
    "    def car_info(self):\n",
    "        print(\"make: \",self.make)\n",
    "        print(\"model:\", self.model)\n",
    "        print(\"color:\",self.color)\n",
    "        print(\"number of owners:\",self.owner_number)\n",
    "    def sell(self):\n",
    "        self.owner_number=self.owner_number+1"
   ]
  },
  {
   "cell_type": "code",
   "execution_count": null,
   "metadata": {},
   "outputs": [],
   "source": [
    "Car1=Car('BMW','M3','red')\n",
    "Car1.car_info()"
   ]
  },
  {
   "cell_type": "code",
   "execution_count": null,
   "metadata": {},
   "outputs": [],
   "source": [
    "for i in range(5):\n",
    "    Car1.sell()\n",
    "    Car1.car_info()\n"
   ]
  },
  {
   "cell_type": "markdown",
   "metadata": {},
   "source": [
    "# Importing matplotlib"
   ]
  },
  {
   "cell_type": "code",
   "execution_count": null,
   "metadata": {},
   "outputs": [],
   "source": [
    "import matplotlib.pyplot as plt\n",
    "\n",
    "%matplotlib inline"
   ]
  },
  {
   "cell_type": "code",
   "execution_count": null,
   "metadata": {},
   "outputs": [],
   "source": [
    "#creating a class circle\n",
    "\n",
    "class Circle(object):\n",
    "    \n",
    "    # Constructor\n",
    "    def __init__(self, radius=3, color='blue'):\n",
    "        self.radius = radius\n",
    "        self.color = color \n",
    "    \n",
    "    # Method\n",
    "    def add_radius(self, r):\n",
    "        self.radius = self.radius + r\n",
    "        return(self.radius)\n",
    "    \n",
    "    # Method\n",
    "    def drawCircle(self):\n",
    "        plt.gca().add_patch(plt.Circle((0, 0), radius=self.radius, fc=self.color))\n",
    "        plt.axis('scaled')\n",
    "        plt.show()  "
   ]
  },
  {
   "cell_type": "code",
   "execution_count": null,
   "metadata": {},
   "outputs": [],
   "source": [
    "# Create an object RedCircle\n",
    "\n",
    "RedCircle = Circle(10, 'red')"
   ]
  },
  {
   "cell_type": "code",
   "execution_count": null,
   "metadata": {},
   "outputs": [],
   "source": [
    "# Find out the methods can be used on the object RedCircle\n",
    "\n",
    "dir(RedCircle)"
   ]
  },
  {
   "cell_type": "code",
   "execution_count": null,
   "metadata": {},
   "outputs": [],
   "source": [
    "# Call the method drawCircle\n",
    "\n",
    "RedCircle.drawCircle()"
   ]
  },
  {
   "cell_type": "code",
   "execution_count": null,
   "metadata": {},
   "outputs": [],
   "source": [
    "# Use method to change the object attribute radius\n",
    "\n",
    "print('Radius of object:',RedCircle.radius)\n",
    "RedCircle.add_radius(2)\n",
    "print('Radius of object of after applying the method add_radius(2):',RedCircle.radius)\n",
    "RedCircle.add_radius(5)\n",
    "print('Radius of object of after applying the method add_radius(5):',RedCircle.radius)"
   ]
  },
  {
   "cell_type": "code",
   "execution_count": null,
   "metadata": {},
   "outputs": [],
   "source": [
    "# Create a blue circle with a given radius\n",
    "\n",
    "BlueCircle = Circle(radius=100)"
   ]
  },
  {
   "cell_type": "code",
   "execution_count": null,
   "metadata": {},
   "outputs": [],
   "source": [
    "# Call the method drawCircle\n",
    "\n",
    "BlueCircle.drawCircle()"
   ]
  },
  {
   "cell_type": "markdown",
   "metadata": {},
   "source": [
    "# Opening files"
   ]
  },
  {
   "cell_type": "code",
   "execution_count": null,
   "metadata": {},
   "outputs": [],
   "source": [
    "import os\n",
    "\n",
    "cwd = os.getcwd()\n",
    "\n",
    "print(cwd)"
   ]
  },
  {
   "cell_type": "code",
   "execution_count": null,
   "metadata": {},
   "outputs": [],
   "source": [
    "# Read the Example1.txt\n",
    "\n",
    "example1 = \"./Resources/Data/example1.txt\"\n",
    "file1 = open(example1,\"r\") # This is to read the file, not editing\n",
    "\n",
    "# Print the path of the file\n",
    "\n",
    "file1.name"
   ]
  },
  {
   "cell_type": "code",
   "execution_count": null,
   "metadata": {},
   "outputs": [],
   "source": [
    "# Print the mode of file, either 'r' or 'w'\n",
    "\n",
    "file1.mode"
   ]
  },
  {
   "cell_type": "code",
   "execution_count": null,
   "metadata": {},
   "outputs": [],
   "source": [
    "# Read the file\n",
    "\n",
    "FileContent = file1.read()\n",
    "FileContent"
   ]
  },
  {
   "cell_type": "code",
   "execution_count": null,
   "metadata": {},
   "outputs": [],
   "source": [
    "# Print the file with '\\n' as a new line\n",
    "\n",
    "print(FileContent)"
   ]
  },
  {
   "cell_type": "code",
   "execution_count": null,
   "metadata": {},
   "outputs": [],
   "source": [
    "# Type of file content\n",
    "\n",
    "type(FileContent)"
   ]
  },
  {
   "cell_type": "code",
   "execution_count": null,
   "metadata": {},
   "outputs": [],
   "source": [
    "# Close file after finish\n",
    "# It is good practice to close files after opening\n",
    "\n",
    "file1.close()"
   ]
  },
  {
   "cell_type": "markdown",
   "metadata": {},
   "source": [
    "# A Better Way to Open a File\n",
    "#Using the <code>with</code> statement is better practice, it automatically closes the file even if the code encounters an exception. The code will run everything in the indent block then close the file object. "
   ]
  },
  {
   "cell_type": "code",
   "execution_count": null,
   "metadata": {},
   "outputs": [],
   "source": [
    "# Open file using with, automatically closes the file object\n",
    "\n",
    "example1 = \"./Resources/Data/example1.txt\"\n",
    "\n",
    "with open(example1, \"r\") as file1:\n",
    "    FileContent = file1.read()\n",
    "    print(FileContent)"
   ]
  },
  {
   "cell_type": "code",
   "execution_count": null,
   "metadata": {},
   "outputs": [],
   "source": [
    "# Verify if the file is closed\n",
    "\n",
    "file1.closed"
   ]
  },
  {
   "cell_type": "code",
   "execution_count": null,
   "metadata": {},
   "outputs": [],
   "source": [
    "# See the content of file without having the original text file open \n",
    "\n",
    "print(FileContent)"
   ]
  },
  {
   "cell_type": "markdown",
   "metadata": {},
   "source": [
    "We don’t have to read the entire file, for example, we can read the first 4 characters by entering three as a parameter to the method **.read()**:\n"
   ]
  },
  {
   "cell_type": "code",
   "execution_count": null,
   "metadata": {},
   "outputs": [],
   "source": [
    "# Read first four characters\n",
    "\n",
    "with open(example1, \"r\") as file1:\n",
    "    print(file1.read(4))"
   ]
  },
  {
   "cell_type": "code",
   "execution_count": null,
   "metadata": {},
   "outputs": [],
   "source": [
    "# Read certain amount of characters\n",
    "\n",
    "with open(example1, \"r\") as file1:\n",
    "    print(file1.read(4))\n",
    "    print(file1.read(4))\n",
    "    print(file1.read(7))\n",
    "    print(file1.read(15))"
   ]
  },
  {
   "cell_type": "markdown",
   "metadata": {},
   "source": [
    "<img src=\"https://s3-api.us-geo.objectstorage.softlayer.net/cf-courses-data/CognitiveClass/PY0101EN/Chapter%204/Images/ReadChar.png\" width=\"500\" />"
   ]
  },
  {
   "cell_type": "code",
   "execution_count": null,
   "metadata": {},
   "outputs": [],
   "source": [
    "# Read certain amount of characters\n",
    "\n",
    "with open(example1, \"r\") as file1:\n",
    "    print(file1.read(16))\n",
    "    print(file1.read(5))\n",
    "    print(file1.read(9))"
   ]
  },
  {
   "cell_type": "code",
   "execution_count": null,
   "metadata": {},
   "outputs": [],
   "source": [
    "# Iterate through the lines\n",
    "\n",
    "with open(example1,\"r\") as file1:\n",
    "        i = 0; # Why semicolon?\n",
    "        for line in file1:\n",
    "            print(\"Iteration\", str(i), \": \", line)\n",
    "            i = i + 1;"
   ]
  },
  {
   "cell_type": "code",
   "execution_count": null,
   "metadata": {},
   "outputs": [],
   "source": [
    "# Read all lines and save as a list\n",
    "\n",
    "with open(example1, \"r\") as file1:\n",
    "    FileasList = file1.readlines()"
   ]
  },
  {
   "cell_type": "code",
   "execution_count": null,
   "metadata": {},
   "outputs": [],
   "source": [
    "# Print the first line\n",
    "\n",
    "FileasList[0]"
   ]
  },
  {
   "cell_type": "markdown",
   "metadata": {},
   "source": [
    "# Writing to Files"
   ]
  },
  {
   "cell_type": "code",
   "execution_count": null,
   "metadata": {},
   "outputs": [],
   "source": [
    "example2= \"./Resources/Data/example2.txt\"\n",
    "\n",
    "with open(example2, \"w\") as file1:\n",
    "    file1.write(\"This is line A\\n\")\n",
    "    file1.write(\"This is line B\\n\")\n",
    "    file1.write(\"This is line X\")"
   ]
  },
  {
   "cell_type": "code",
   "execution_count": null,
   "metadata": {},
   "outputs": [],
   "source": [
    "# Verify if the copy is successfully executed\n",
    "\n",
    "with open('./Resources/Data/example2.txt','r') as testwritefile:\n",
    "    print(testwritefile.read())"
   ]
  },
  {
   "cell_type": "code",
   "execution_count": null,
   "metadata": {},
   "outputs": [],
   "source": [
    "lines = [\"This is line A\\n\", \"This is line B\\n\", \"This is line C\\n\"]\n",
    "\n",
    "with open(example2, \"w\") as file1:\n",
    "    for line in lines:\n",
    "        file1.write(line)"
   ]
  },
  {
   "cell_type": "code",
   "execution_count": null,
   "metadata": {},
   "outputs": [],
   "source": [
    "# copies data in example1 to example 2\n",
    "\n",
    "example1 = \"./Resources/Data/example1.txt\"\n",
    "\n",
    "with open(example1,\"r\") as readfiles:\n",
    "    with open(\"./Resources/Data/example3.txt\",\"w\") as writefile:\n",
    "        for line in readfiles:\n",
    "            writefile.write(line)"
   ]
  },
  {
   "cell_type": "markdown",
   "metadata": {},
   "source": [
    "# Dependencies and libraries, Pandas-loading data"
   ]
  },
  {
   "cell_type": "code",
   "execution_count": null,
   "metadata": {},
   "outputs": [],
   "source": [
    "import pandas as pd #gives access to pre-built classes and functions, uses pd instead of typing pandas everytime"
   ]
  },
  {
   "cell_type": "code",
   "execution_count": null,
   "metadata": {},
   "outputs": [],
   "source": [
    "csv_path='file1.csv'\n",
    "df=pd.read_csv(csv_path) #df is short for dataframe\n",
    "df.head() #examines the first five rows of the dataframe\n",
    "\n",
    "# loading excel files\n",
    "# xlsx_path='file1.xlsx'\n",
    "# df=pd.read_excel(xlsx_path)\n",
    "# df.head()"
   ]
  },
  {
   "cell_type": "code",
   "execution_count": null,
   "metadata": {},
   "outputs": [],
   "source": [
    "df=pd.DataFrame({'a':[11,21,31],'b':[21,22,23]})\n",
    "\n",
    "df.head() #plots the first three rows"
   ]
  },
  {
   "cell_type": "code",
   "execution_count": null,
   "metadata": {},
   "outputs": [],
   "source": [
    "df['a'] #obtain column a"
   ]
  },
  {
   "cell_type": "code",
   "execution_count": null,
   "metadata": {},
   "outputs": [],
   "source": [
    "# [row, column]\n",
    "\n",
    "df.iloc[1,0] #can also use df.ix but it is depreciated"
   ]
  },
  {
   "cell_type": "code",
   "execution_count": null,
   "metadata": {},
   "outputs": [],
   "source": [
    "df['a']==11 #returns a bool value if anything in column 'a' is equal to 11"
   ]
  },
  {
   "cell_type": "markdown",
   "metadata": {},
   "source": [
    "# Numpy arrays - for scientific computing - operations are computationally faster and require less memory"
   ]
  },
  {
   "cell_type": "code",
   "execution_count": null,
   "metadata": {},
   "outputs": [],
   "source": [
    "import numpy as np\n",
    "\n",
    "a=np.array([0,1,2,3,245971597125])\n",
    "a[0]"
   ]
  },
  {
   "cell_type": "code",
   "execution_count": null,
   "metadata": {},
   "outputs": [],
   "source": [
    "type(a)"
   ]
  },
  {
   "cell_type": "code",
   "execution_count": null,
   "metadata": {},
   "outputs": [],
   "source": [
    "#data type of array\n",
    "\n",
    "a.dtype"
   ]
  },
  {
   "cell_type": "code",
   "execution_count": null,
   "metadata": {},
   "outputs": [],
   "source": [
    "#how big is the array\n",
    "\n",
    "a.size"
   ]
  },
  {
   "cell_type": "code",
   "execution_count": null,
   "metadata": {},
   "outputs": [],
   "source": [
    "#how many dimensions\n",
    "\n",
    "a.ndim"
   ]
  },
  {
   "cell_type": "code",
   "execution_count": null,
   "metadata": {},
   "outputs": [],
   "source": [
    "a.shape #tuple of integers indicating the size of the array in each dimension"
   ]
  },
  {
   "cell_type": "code",
   "execution_count": null,
   "metadata": {},
   "outputs": [],
   "source": [
    "#Create a numpy array with real numbers\n",
    "\n",
    "b=np.array([3.1,11.02,6.2,213.2,5.2])"
   ]
  },
  {
   "cell_type": "code",
   "execution_count": null,
   "metadata": {},
   "outputs": [],
   "source": [
    "type(b)"
   ]
  },
  {
   "cell_type": "code",
   "execution_count": null,
   "metadata": {},
   "outputs": [],
   "source": [
    "b.dtype"
   ]
  },
  {
   "cell_type": "code",
   "execution_count": null,
   "metadata": {},
   "outputs": [],
   "source": [
    "#Changing values within arrays\n",
    "\n",
    "b[0]=20 #changes the first element of the array\n",
    "\n",
    "b"
   ]
  },
  {
   "cell_type": "code",
   "execution_count": null,
   "metadata": {},
   "outputs": [],
   "source": [
    "#Slicing arrays\n",
    "\n",
    "c=b[:] #copying the entire array of b to c\n",
    "\n",
    "c"
   ]
  },
  {
   "cell_type": "code",
   "execution_count": null,
   "metadata": {},
   "outputs": [],
   "source": [
    "#adding new values to array\n",
    "\n",
    "c[3:5]=300,400\n",
    "\n",
    "c"
   ]
  },
  {
   "cell_type": "markdown",
   "metadata": {},
   "source": [
    "# Working with vectors, Numpy 1D arrays"
   ]
  },
  {
   "cell_type": "code",
   "execution_count": null,
   "metadata": {},
   "outputs": [],
   "source": [
    "# Vector addition in arrays\n",
    "\n",
    "u=np.array([1,0])\n",
    "v=np.array([0,1])\n",
    "\n",
    "z=u+v\n",
    "\n",
    "z"
   ]
  },
  {
   "cell_type": "code",
   "execution_count": null,
   "metadata": {},
   "outputs": [],
   "source": [
    "# vector addition in lists\n",
    "\n",
    "u=[1,0]\n",
    "v=[0,1]\n",
    "z=[]\n",
    "\n",
    "for n, m in zip(u,v):\n",
    "    z.append(n+m) # NB append adds based on consolidation of elements\n",
    "    \n",
    "z"
   ]
  },
  {
   "cell_type": "code",
   "execution_count": null,
   "metadata": {},
   "outputs": [],
   "source": [
    "# Vector subtraction in arrays\n",
    "u=np.array([1,0])\n",
    "v=np.array([0,1])\n",
    "\n",
    "z=u-v\n",
    "\n",
    "z"
   ]
  },
  {
   "cell_type": "code",
   "execution_count": null,
   "metadata": {},
   "outputs": [],
   "source": [
    "# Vector subtraction in lists\n",
    "\n",
    "u=[1,0]\n",
    "v=[0,1]\n",
    "z=[]\n",
    "\n",
    "for x, y in zip(u,v):\n",
    "    z.append(x-y)   \n",
    "z"
   ]
  },
  {
   "cell_type": "code",
   "execution_count": null,
   "metadata": {},
   "outputs": [],
   "source": [
    "# Vector multiplication in arrays\n",
    "\n",
    "y=np.array([1,2])\n",
    "\n",
    "z=2*y\n",
    "\n",
    "z"
   ]
  },
  {
   "cell_type": "code",
   "execution_count": null,
   "metadata": {},
   "outputs": [],
   "source": [
    "# List multiplication\n",
    "\n",
    "y=[1,2]\n",
    "z=2*y #this multiplies the list! different from arrays\n",
    "z"
   ]
  },
  {
   "cell_type": "code",
   "execution_count": null,
   "metadata": {},
   "outputs": [],
   "source": [
    "# Vector multiplication in lists and this operation is much slower\n",
    "\n",
    "y=[1,2]\n",
    "z=[]\n",
    "\n",
    "for n in y:\n",
    "    z.append(2*n)\n",
    "z"
   ]
  },
  {
   "cell_type": "code",
   "execution_count": null,
   "metadata": {},
   "outputs": [],
   "source": [
    "# Hadamard product in arrays\n",
    "\n",
    "u=np.array([1,2])\n",
    "v=np.array([3,2])\n",
    "\n",
    "z=u*v\n",
    "z"
   ]
  },
  {
   "cell_type": "code",
   "execution_count": null,
   "metadata": {},
   "outputs": [],
   "source": [
    "# Hadamard product in lists\n",
    "\n",
    "u=[1,2]\n",
    "v=[3,2]\n",
    "z=[]\n",
    "\n",
    "for n,m in zip(u,v):\n",
    "    z.append(n*m)\n",
    "z"
   ]
  },
  {
   "cell_type": "code",
   "execution_count": null,
   "metadata": {},
   "outputs": [],
   "source": [
    "# Dot product\n",
    "\n",
    "u=np.array([1,2])\n",
    "v=np.array([3,2])\n",
    "\n",
    "result=np.dot(u,v) #1*3+2*2\n",
    "\n",
    "result"
   ]
  },
  {
   "cell_type": "code",
   "execution_count": null,
   "metadata": {},
   "outputs": [],
   "source": [
    "# Adding constants to a numpy Array\n",
    "\n",
    "u=np.array([1,2,3,-1])\n",
    "\n",
    "z=u+1 #broadcasting\n",
    "\n",
    "print(u)\n",
    "print(z)"
   ]
  },
  {
   "cell_type": "markdown",
   "metadata": {},
   "source": [
    "# Universal functions for numpy arrays"
   ]
  },
  {
   "cell_type": "code",
   "execution_count": null,
   "metadata": {},
   "outputs": [],
   "source": [
    "# Finding mean\n",
    "\n",
    "a=np.array([2,-1,1,-1])\n",
    "\n",
    "mean_a=a.mean()\n",
    "\n",
    "print(mean_a)\n",
    "\n",
    "mean_a.dtype"
   ]
  },
  {
   "cell_type": "code",
   "execution_count": null,
   "metadata": {},
   "outputs": [],
   "source": [
    "# Finding max\n",
    "\n",
    "b=np.array([1,-2,3,4,999])\n",
    "\n",
    "max_b=b.max()\n",
    "\n",
    "max_b"
   ]
  },
  {
   "cell_type": "code",
   "execution_count": null,
   "metadata": {},
   "outputs": [],
   "source": [
    "# pi value\n",
    "\n",
    "np.pi"
   ]
  },
  {
   "cell_type": "code",
   "execution_count": null,
   "metadata": {},
   "outputs": [],
   "source": [
    "# sin functions\n",
    "\n",
    "x=np.array([0,np.pi/2,np.pi])\n",
    "\n",
    "y=np.sin(x)\n",
    "\n",
    "y"
   ]
  },
  {
   "cell_type": "code",
   "execution_count": null,
   "metadata": {},
   "outputs": [],
   "source": [
    "# linspace functions, returns evenly spaced numbers over a specified interval\n",
    "\n",
    "np.linspace(-10,10,num=5)"
   ]
  },
  {
   "cell_type": "code",
   "execution_count": null,
   "metadata": {},
   "outputs": [],
   "source": [
    "a=np.linspace(0,10,num=11)\n",
    "b=a*2\n",
    "b\n"
   ]
  },
  {
   "cell_type": "code",
   "execution_count": null,
   "metadata": {},
   "outputs": [],
   "source": [
    "# Plotting Mathematical Functions\n",
    "\n",
    "x=np.linspace(0,2*np.pi,10)\n",
    "\n",
    "print(x)\n",
    "\n",
    "y=np.sin(x)\n",
    "\n",
    "plt.plot(x,y)"
   ]
  },
  {
   "cell_type": "markdown",
   "metadata": {},
   "source": [
    "# Working with Numpy 2D Arrays"
   ]
  },
  {
   "cell_type": "code",
   "execution_count": null,
   "metadata": {},
   "outputs": [],
   "source": [
    "a=[[11,12,13],[21,22,23],[31,32,33]]\n",
    "\n",
    "A=np.array(a)\n",
    "\n",
    "A"
   ]
  },
  {
   "cell_type": "code",
   "execution_count": null,
   "metadata": {},
   "outputs": [],
   "source": [
    "# Determine number of axes or dimensions in the array\n",
    "A.ndim"
   ]
  },
  {
   "cell_type": "code",
   "execution_count": null,
   "metadata": {},
   "outputs": [],
   "source": [
    "A.shape"
   ]
  },
  {
   "cell_type": "code",
   "execution_count": null,
   "metadata": {},
   "outputs": [],
   "source": [
    "A[1][2] #looks at the 2nd row and 3rd column"
   ]
  },
  {
   "cell_type": "code",
   "execution_count": null,
   "metadata": {},
   "outputs": [],
   "source": [
    "A[0:2,2]"
   ]
  },
  {
   "cell_type": "code",
   "execution_count": null,
   "metadata": {},
   "outputs": [],
   "source": [
    "x=[[1,0],[0,1]]\n",
    "y=[[2,1],[1,2]]\n",
    "\n",
    "X=np.array(x)\n",
    "Y=np.array(y)\n",
    "\n",
    "X+Y"
   ]
  },
  {
   "cell_type": "code",
   "execution_count": null,
   "metadata": {},
   "outputs": [],
   "source": [
    "a=np.array([[2,-1],[1,-1]])\n",
    "\n",
    "a"
   ]
  },
  {
   "cell_type": "code",
   "execution_count": null,
   "metadata": {},
   "outputs": [],
   "source": [
    "# Addition\n",
    "\n",
    "x=np.array([[1,0],[0,1]])\n",
    "y=np.array([[2,1],[1,2]])\n",
    "\n",
    "Z=X+Y\n",
    "\n",
    "Z"
   ]
  },
  {
   "cell_type": "code",
   "execution_count": null,
   "metadata": {},
   "outputs": [],
   "source": [
    "# Scalar product\n",
    "\n",
    "ZZ=2*Z\n",
    "\n",
    "ZZ"
   ]
  },
  {
   "cell_type": "code",
   "execution_count": null,
   "metadata": {},
   "outputs": [],
   "source": [
    "# dot product\n",
    "x=np.array([[1,0],[0,1]])\n",
    "y=np.array([[2,1],[1,2]])\n",
    "\n",
    "Z=X*Y\n",
    "\n",
    "Z\n"
   ]
  },
  {
   "cell_type": "markdown",
   "metadata": {},
   "source": [
    "# Matrix multiplication"
   ]
  },
  {
   "cell_type": "code",
   "execution_count": null,
   "metadata": {},
   "outputs": [],
   "source": [
    "#have to ensure columns in A is equal to number of rows in B\n",
    "#takes i-th row of \"A\" with the j-th columns of \"B\" \n",
    "\n",
    "A=np.array([[0,1,1],[1,0,1]])\n",
    "B=np.array([[1,1],[1,1],[-1,1]])\n",
    "\n",
    "C=np.dot(A,B)\n",
    "\n",
    "C"
   ]
  },
  {
   "cell_type": "markdown",
   "metadata": {},
   "source": [
    "# Handling data "
   ]
  },
  {
   "cell_type": "code",
   "execution_count": 7,
   "metadata": {},
   "outputs": [
    {
     "name": "stdout",
     "output_type": "stream",
     "text": [
      "Original Dataframe Contents :\n",
      "    x     y     z\n",
      "a  22  16.0  23.0\n",
      "b  33   NaN  11.0\n",
      "c  44  34.0  11.0\n",
      "d  55  35.0   NaN\n",
      "e  66  36.0  13.0\n",
      "***** Get Maximum value in every column ***** \n",
      "Maximum value in each column : \n",
      "x    66.0\n",
      "y    36.0\n",
      "z    23.0\n",
      "dtype: float64\n",
      "***** Get Maximum value in every row ***** \n",
      "Maximum value in each row : \n",
      "a    23.0\n",
      "b    33.0\n",
      "c    44.0\n",
      "d    55.0\n",
      "e    66.0\n",
      "dtype: float64\n",
      "***** Get Maximum value in every column without skipping NaN ***** \n",
      "Maximum value in each column including NaN: \n",
      "x    66.0\n",
      "y     NaN\n",
      "z     NaN\n",
      "dtype: float64\n",
      "***** Get Maximum value in a single column ***** \n",
      "Maximum value in column 'y':  36.0\n",
      "Maximum value in column 'y':  36.0\n",
      "***** Get Maximum value in certain columns only ***** \n",
      "Maximum value in column 'y' & 'z': \n",
      "y    36.0\n",
      "z    23.0\n",
      "dtype: float64\n",
      "***** Get row index label of Maximum value in every column *****\n",
      "Max values of columns are at row index position :\n",
      "x    e\n",
      "y    e\n",
      "z    a\n",
      "dtype: object\n",
      "***** Get Column name of Maximum value in every row *****\n",
      "Max values of row are at following columns :\n",
      "a    z\n",
      "b    x\n",
      "c    x\n",
      "d    x\n",
      "e    x\n",
      "dtype: object\n"
     ]
    }
   ],
   "source": [
    "import pandas as pd\n",
    "import numpy as np\n",
    " \n",
    "# List of Tuples\n",
    "matrix = [(22, 16, 23),(33, np.NaN, 11),(44, 34, 11),(55, 35, np.NaN),(66, 36, 13)]\n",
    "\n",
    "# Create a DataFrame object\n",
    "dfObj = pd.DataFrame(matrix, index=list('abcde'), columns=list('xyz'))\n",
    "\n",
    "print('Original Dataframe Contents :')\n",
    "print(dfObj)\n",
    "\n",
    "print('***** Get Maximum value in every column ***** ')\n",
    "\n",
    "# Get a series containing maximum value of each column\n",
    "maxValuesObj = dfObj.max()\n",
    "\n",
    "print('Maximum value in each column : ')\n",
    "print(maxValuesObj)\n",
    "\n",
    "print('***** Get Maximum value in every row ***** ')\n",
    "\n",
    "# Get a series containing maximum value of each row\n",
    "maxValuesObj = dfObj.max(axis=1)\n",
    "\n",
    "print('Maximum value in each row : ')\n",
    "print(maxValuesObj)\n",
    "\n",
    "\n",
    "print('***** Get Maximum value in every column without skipping NaN ***** ')\n",
    "\n",
    "# Get a series containing maximum value of each column without skipping NaN\n",
    "maxValuesObj = dfObj.max(skipna=False)\n",
    "\n",
    "print('Maximum value in each column including NaN: ')\n",
    "print(maxValuesObj)\n",
    "\n",
    "print('***** Get Maximum value in a single column ***** ')\n",
    "\n",
    "# Get maximum value of a single column 'y'\n",
    "maxValue = dfObj['y'].max()\n",
    "\n",
    "print(\"Maximum value in column 'y': \" , maxValue)\n",
    "\n",
    "# Get maximum value of a single column 'y'\n",
    "maxValue = dfObj.max()['y']\n",
    "\n",
    "print(\"Maximum value in column 'y': \" , maxValue)\n",
    "\n",
    "print('***** Get Maximum value in certain columns only ***** ')\n",
    "\n",
    "# Get maximum value of a single column 'y'\n",
    "maxValue = dfObj[['y', 'z']].max()\n",
    "\n",
    "print(\"Maximum value in column 'y' & 'z': \")\n",
    "print(maxValue)\n",
    "\n",
    "\n",
    "print('***** Get row index label of Maximum value in every column *****')\n",
    "\n",
    "# get the index position of max values in every column\n",
    "maxValueIndexObj = dfObj.idxmax()\n",
    "\n",
    "print(\"Max values of columns are at row index position :\")\n",
    "print(maxValueIndexObj)\n",
    "\n",
    "\n",
    "print('***** Get Column name of Maximum value in every row *****')\n",
    "\n",
    "# get the column name of max values in every row\n",
    "maxValueIndexObj = dfObj.idxmax(axis=1)\n",
    "\n",
    "print(\"Max values of row are at following columns :\")\n",
    "print(maxValueIndexObj)"
   ]
  },
  {
   "cell_type": "code",
   "execution_count": null,
   "metadata": {},
   "outputs": [],
   "source": []
  }
 ],
 "metadata": {
  "kernelspec": {
   "display_name": "Python 3",
   "language": "python",
   "name": "python3"
  },
  "language_info": {
   "codemirror_mode": {
    "name": "ipython",
    "version": 3
   },
   "file_extension": ".py",
   "mimetype": "text/x-python",
   "name": "python",
   "nbconvert_exporter": "python",
   "pygments_lexer": "ipython3",
   "version": "3.7.7"
  }
 },
 "nbformat": 4,
 "nbformat_minor": 4
}
