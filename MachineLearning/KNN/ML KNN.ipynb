{
 "cells": [
  {
   "cell_type": "markdown",
   "metadata": {},
   "source": [
    "# ML K-Nearest Neighbours"
   ]
  },
  {
   "cell_type": "markdown",
   "metadata": {},
   "source": [
    "This notebook is based on the tutorial on Tech with Tim's YouTube Channel.\n",
    "\n",
    "https://www.youtube.com/watch?v=45ryDIPHdGg\n",
    "    \n",
    "Dataset from https://archive.ics.uci.edu/ml/datasets.php    \n",
    "\n",
    "<img src = https://cambridgecoding.files.wordpress.com/2016/01/knn2.jpg width=500>\n",
    "\n",
    "* KNN is very time consuming to model each time as it has to compute the distance between neighbouring points for each point\n",
    "* Difficult to save it as a model as it has to save the training data for each cluster \n",
    "* Useless to train beforehand because it constantly has to keep looking at every data point before it can make a prediction\n",
    "\n",
    "# In this kernel, we will look at a car evaluation dataset to determine which attributes affect the quality/class of the vehicle. (classification problem)"
   ]
  },
  {
   "cell_type": "code",
   "execution_count": 86,
   "metadata": {},
   "outputs": [],
   "source": [
    "# Import libraries\n",
    "\n",
    "# Data analysis\n",
    "import pandas as pd\n",
    "import numpy as np\n",
    "import pickle\n",
    "import matplotlib.pyplot as plt\n",
    "from matplotlib import style\n",
    "\n",
    "# Machine learning\n",
    "import sklearn\n",
    "from sklearn import linear_model, preprocessing\n",
    "from sklearn.neighbors import KNeighborsClassifier\n",
    "from sklearn.utils import shuffle\n",
    "from sklearn import metrics"
   ]
  },
  {
   "cell_type": "code",
   "execution_count": 60,
   "metadata": {},
   "outputs": [
    {
     "data": {
      "text/html": [
       "<div>\n",
       "<style scoped>\n",
       "    .dataframe tbody tr th:only-of-type {\n",
       "        vertical-align: middle;\n",
       "    }\n",
       "\n",
       "    .dataframe tbody tr th {\n",
       "        vertical-align: top;\n",
       "    }\n",
       "\n",
       "    .dataframe thead th {\n",
       "        text-align: right;\n",
       "    }\n",
       "</style>\n",
       "<table border=\"1\" class=\"dataframe\">\n",
       "  <thead>\n",
       "    <tr style=\"text-align: right;\">\n",
       "      <th></th>\n",
       "      <th>buying</th>\n",
       "      <th>maint</th>\n",
       "      <th>doors</th>\n",
       "      <th>persons</th>\n",
       "      <th>lug_boot</th>\n",
       "      <th>safety</th>\n",
       "      <th>class</th>\n",
       "    </tr>\n",
       "  </thead>\n",
       "  <tbody>\n",
       "    <tr>\n",
       "      <th>0</th>\n",
       "      <td>vhigh</td>\n",
       "      <td>vhigh</td>\n",
       "      <td>2</td>\n",
       "      <td>2</td>\n",
       "      <td>small</td>\n",
       "      <td>low</td>\n",
       "      <td>unacc</td>\n",
       "    </tr>\n",
       "    <tr>\n",
       "      <th>1</th>\n",
       "      <td>vhigh</td>\n",
       "      <td>vhigh</td>\n",
       "      <td>2</td>\n",
       "      <td>2</td>\n",
       "      <td>small</td>\n",
       "      <td>med</td>\n",
       "      <td>unacc</td>\n",
       "    </tr>\n",
       "    <tr>\n",
       "      <th>2</th>\n",
       "      <td>vhigh</td>\n",
       "      <td>vhigh</td>\n",
       "      <td>2</td>\n",
       "      <td>2</td>\n",
       "      <td>small</td>\n",
       "      <td>high</td>\n",
       "      <td>unacc</td>\n",
       "    </tr>\n",
       "    <tr>\n",
       "      <th>3</th>\n",
       "      <td>vhigh</td>\n",
       "      <td>vhigh</td>\n",
       "      <td>2</td>\n",
       "      <td>2</td>\n",
       "      <td>med</td>\n",
       "      <td>low</td>\n",
       "      <td>unacc</td>\n",
       "    </tr>\n",
       "    <tr>\n",
       "      <th>4</th>\n",
       "      <td>vhigh</td>\n",
       "      <td>vhigh</td>\n",
       "      <td>2</td>\n",
       "      <td>2</td>\n",
       "      <td>med</td>\n",
       "      <td>med</td>\n",
       "      <td>unacc</td>\n",
       "    </tr>\n",
       "  </tbody>\n",
       "</table>\n",
       "</div>"
      ],
      "text/plain": [
       "  buying  maint doors persons lug_boot safety  class\n",
       "0  vhigh  vhigh     2       2    small    low  unacc\n",
       "1  vhigh  vhigh     2       2    small    med  unacc\n",
       "2  vhigh  vhigh     2       2    small   high  unacc\n",
       "3  vhigh  vhigh     2       2      med    low  unacc\n",
       "4  vhigh  vhigh     2       2      med    med  unacc"
      ]
     },
     "execution_count": 60,
     "metadata": {},
     "output_type": "execute_result"
    }
   ],
   "source": [
    "data = pd.read_csv('car.data')\n",
    "data.head()"
   ]
  },
  {
   "cell_type": "code",
   "execution_count": 61,
   "metadata": {},
   "outputs": [
    {
     "name": "stdout",
     "output_type": "stream",
     "text": [
      "<class 'pandas.core.frame.DataFrame'>\n",
      "RangeIndex: 1728 entries, 0 to 1727\n",
      "Data columns (total 7 columns):\n",
      " #   Column    Non-Null Count  Dtype \n",
      "---  ------    --------------  ----- \n",
      " 0   buying    1728 non-null   object\n",
      " 1   maint     1728 non-null   object\n",
      " 2   doors     1728 non-null   object\n",
      " 3   persons   1728 non-null   object\n",
      " 4   lug_boot  1728 non-null   object\n",
      " 5   safety    1728 non-null   object\n",
      " 6   class     1728 non-null   object\n",
      "dtypes: object(7)\n",
      "memory usage: 94.6+ KB\n"
     ]
    }
   ],
   "source": [
    "# Need to convert all the data into appropriate types\n",
    "# Need to convert the 'vhigh', 'unacc' into integer values\n",
    "\n",
    "data.info()"
   ]
  },
  {
   "cell_type": "markdown",
   "metadata": {},
   "source": [
    "# Dealing with irregular data - Encoding"
   ]
  },
  {
   "cell_type": "code",
   "execution_count": 62,
   "metadata": {},
   "outputs": [
    {
     "name": "stdout",
     "output_type": "stream",
     "text": [
      "[3 3 3 ... 1 1 1]\n",
      "[2 2 2 ... 2 1 3]\n"
     ]
    }
   ],
   "source": [
    "# SKlearn comes with preprocessing to help to convert into appropriate integer values\n",
    "# Encodes the labels into integers which can then be decoded later on\n",
    "# Convert non-numerical data into numerical\n",
    "# Use list instead of numpy or pandas df\n",
    "\n",
    "le = preprocessing.LabelEncoder()\n",
    "\n",
    "buying = le.fit_transform(list(data['buying']))\n",
    "maint = le.fit_transform(list(data['maint']))\n",
    "doors = le.fit_transform(list(data['doors']))\n",
    "persons = le.fit_transform(list(data['persons']))\n",
    "lug_boot = le.fit_transform(list(data['lug_boot']))\n",
    "safety = le.fit_transform(list(data['safety']))\n",
    "cls = le.fit_transform(list(data['class']))\n",
    "\n",
    "print(buying)\n",
    "print(cls)"
   ]
  },
  {
   "cell_type": "markdown",
   "metadata": {},
   "source": [
    "# Modelling"
   ]
  },
  {
   "cell_type": "code",
   "execution_count": 63,
   "metadata": {},
   "outputs": [],
   "source": [
    "predict = 'class'"
   ]
  },
  {
   "cell_type": "code",
   "execution_count": 64,
   "metadata": {},
   "outputs": [],
   "source": [
    "x = list(zip(buying, maint, doors, persons, lug_boot, safety)) # features\n",
    "y = list(cls) # label"
   ]
  },
  {
   "cell_type": "code",
   "execution_count": null,
   "metadata": {},
   "outputs": [],
   "source": [
    "# K is a hyperparameter that needs to be an odd number to avoid ambiguity\n",
    "# If K is too high, then it might be clustered into the wrong group"
   ]
  },
  {
   "cell_type": "code",
   "execution_count": 88,
   "metadata": {},
   "outputs": [
    {
     "data": {
      "text/plain": [
       "0.9364161849710982"
      ]
     },
     "execution_count": 88,
     "metadata": {},
     "output_type": "execute_result"
    }
   ],
   "source": [
    "x_train, x_test, y_train, y_test = sklearn.model_selection.train_test_split(x, y, test_size=0.1, random_state=1)\n",
    "\n",
    "model = KNeighborsClassifier(n_neighbors=5)\n",
    "\n",
    "model.fit(x_train, y_train)\n",
    "acc = model.score(x_test, y_test)\n",
    "acc\n",
    "# print(x_train, y_test)"
   ]
  },
  {
   "cell_type": "code",
   "execution_count": 82,
   "metadata": {},
   "outputs": [
    {
     "name": "stdout",
     "output_type": "stream",
     "text": [
      "0.9479768786127167\n",
      "0.9479768786127167\n",
      "0.930635838150289\n",
      "0.884393063583815\n",
      "0.9132947976878613\n",
      "0.953757225433526\n",
      "0.9479768786127167\n",
      "0.884393063583815\n",
      "0.9364161849710982\n",
      "0.930635838150289\n",
      "0.9479768786127167\n",
      "0.953757225433526\n",
      "0.9421965317919075\n",
      "0.8901734104046243\n",
      "0.9132947976878613\n",
      "0.953757225433526\n",
      "0.930635838150289\n",
      "0.9364161849710982\n",
      "0.9421965317919075\n",
      "0.9190751445086706\n",
      "0.9190751445086706\n",
      "0.9364161849710982\n",
      "0.9364161849710982\n",
      "0.9364161849710982\n",
      "0.953757225433526\n",
      "0.9479768786127167\n",
      "0.9364161849710982\n",
      "0.953757225433526\n",
      "0.9364161849710982\n",
      "0.9479768786127167\n",
      "The best value is: 0.953757225433526\n"
     ]
    }
   ],
   "source": [
    "# Finding the range of accuracies\n",
    "best = 0\n",
    "for _ in range(30): # Repeats up to 30 times to find the best accuracy value score\n",
    "    x_train, x_test, y_train, y_test = sklearn.model_selection.train_test_split(x, y, test_size=0.1)\n",
    "    \n",
    "    model = KNeighborsClassifier(n_neighbors=9)\n",
    "    \n",
    "    model.fit(x_train, y_train)\n",
    "    \n",
    "    acc = model.score(x_test, y_test)\n",
    "    print (acc)\n",
    "    if acc > best:\n",
    "        best = acc\n",
    "print('The best value is:', best)"
   ]
  },
  {
   "cell_type": "markdown",
   "metadata": {},
   "source": [
    "# Model Validation"
   ]
  },
  {
   "cell_type": "code",
   "execution_count": null,
   "metadata": {},
   "outputs": [],
   "source": [
    "predicted = model.predict(x_test)\n",
    "\n",
    "for x in range(len(x_test)):\n",
    "    print('Predicted: ', predicted[x], 'Data: ', x_test[x], 'Actual: ', y_test[x])"
   ]
  },
  {
   "cell_type": "code",
   "execution_count": 55,
   "metadata": {},
   "outputs": [
    {
     "name": "stdout",
     "output_type": "stream",
     "text": [
      "Predicted:  good Data:  (2, 1, 1, 2, 2, 1) Actual:  good\n",
      "Predicted:  unacc Data:  (0, 0, 1, 2, 0, 2) Actual:  unacc\n",
      "Predicted:  good Data:  (0, 0, 3, 0, 1, 2) Actual:  good\n",
      "Predicted:  good Data:  (1, 2, 1, 0, 0, 2) Actual:  good\n",
      "Predicted:  good Data:  (0, 2, 3, 0, 2, 2) Actual:  good\n",
      "Predicted:  unacc Data:  (3, 2, 0, 2, 0, 2) Actual:  unacc\n",
      "Predicted:  good Data:  (1, 0, 2, 1, 2, 1) Actual:  good\n",
      "Predicted:  good Data:  (2, 0, 0, 1, 0, 1) Actual:  good\n",
      "Predicted:  unacc Data:  (2, 1, 2, 1, 2, 2) Actual:  unacc\n",
      "Predicted:  good Data:  (2, 3, 1, 0, 2, 1) Actual:  good\n",
      "Predicted:  unacc Data:  (3, 1, 2, 2, 0, 2) Actual:  unacc\n",
      "Predicted:  good Data:  (1, 2, 2, 1, 1, 1) Actual:  good\n",
      "Predicted:  good Data:  (1, 3, 3, 0, 2, 2) Actual:  good\n",
      "Predicted:  good Data:  (2, 0, 2, 0, 2, 2) Actual:  good\n",
      "Predicted:  good Data:  (3, 3, 3, 1, 0, 0) Actual:  good\n",
      "Predicted:  good Data:  (3, 2, 2, 0, 1, 0) Actual:  good\n",
      "Predicted:  good Data:  (1, 1, 1, 2, 0, 1) Actual:  good\n",
      "Predicted:  unacc Data:  (2, 2, 1, 1, 2, 2) Actual:  unacc\n",
      "Predicted:  unacc Data:  (1, 0, 0, 2, 2, 0) Actual:  good\n",
      "Predicted:  good Data:  (3, 0, 3, 0, 2, 2) Actual:  good\n",
      "Predicted:  good Data:  (2, 2, 0, 0, 0, 1) Actual:  good\n",
      "Predicted:  good Data:  (1, 2, 2, 0, 0, 0) Actual:  good\n",
      "Predicted:  good Data:  (2, 2, 1, 2, 2, 1) Actual:  good\n",
      "Predicted:  good Data:  (2, 1, 3, 2, 1, 1) Actual:  good\n",
      "Predicted:  good Data:  (0, 2, 3, 0, 1, 2) Actual:  good\n",
      "Predicted:  good Data:  (3, 0, 2, 0, 1, 0) Actual:  good\n",
      "Predicted:  good Data:  (1, 1, 1, 0, 1, 0) Actual:  good\n",
      "Predicted:  good Data:  (2, 3, 2, 2, 0, 1) Actual:  good\n",
      "Predicted:  good Data:  (1, 0, 0, 0, 1, 2) Actual:  good\n",
      "Predicted:  unacc Data:  (2, 2, 1, 2, 0, 2) Actual:  unacc\n",
      "Predicted:  vgood Data:  (1, 0, 2, 1, 1, 0) Actual:  vgood\n",
      "Predicted:  good Data:  (1, 0, 1, 0, 2, 1) Actual:  good\n",
      "Predicted:  good Data:  (3, 3, 1, 2, 2, 0) Actual:  good\n",
      "Predicted:  good Data:  (0, 3, 0, 0, 2, 0) Actual:  good\n",
      "Predicted:  good Data:  (2, 3, 2, 0, 0, 2) Actual:  good\n",
      "Predicted:  good Data:  (3, 3, 3, 2, 1, 1) Actual:  good\n",
      "Predicted:  good Data:  (3, 3, 1, 2, 1, 1) Actual:  good\n",
      "Predicted:  good Data:  (1, 1, 0, 2, 2, 2) Actual:  good\n",
      "Predicted:  unacc Data:  (2, 3, 1, 2, 0, 2) Actual:  unacc\n",
      "Predicted:  good Data:  (0, 1, 0, 1, 2, 2) Actual:  good\n",
      "Predicted:  good Data:  (0, 3, 1, 0, 1, 1) Actual:  good\n",
      "Predicted:  unacc Data:  (0, 1, 3, 2, 2, 0) Actual:  unacc\n",
      "Predicted:  good Data:  (2, 2, 3, 1, 1, 1) Actual:  good\n",
      "Predicted:  good Data:  (1, 0, 2, 0, 1, 2) Actual:  good\n",
      "Predicted:  good Data:  (1, 3, 2, 0, 1, 0) Actual:  good\n",
      "Predicted:  good Data:  (1, 2, 1, 0, 2, 2) Actual:  good\n",
      "Predicted:  good Data:  (1, 2, 1, 0, 1, 1) Actual:  good\n",
      "Predicted:  good Data:  (0, 0, 0, 2, 2, 2) Actual:  good\n",
      "Predicted:  vgood Data:  (1, 0, 3, 2, 0, 0) Actual:  vgood\n",
      "Predicted:  good Data:  (3, 1, 1, 2, 1, 1) Actual:  good\n",
      "Predicted:  good Data:  (2, 2, 0, 1, 2, 1) Actual:  good\n",
      "Predicted:  good Data:  (3, 3, 2, 2, 1, 1) Actual:  good\n",
      "Predicted:  good Data:  (0, 2, 0, 0, 0, 1) Actual:  good\n",
      "Predicted:  good Data:  (3, 3, 2, 0, 0, 1) Actual:  good\n",
      "Predicted:  good Data:  (2, 2, 0, 0, 1, 2) Actual:  good\n",
      "Predicted:  good Data:  (2, 3, 3, 0, 0, 1) Actual:  good\n",
      "Predicted:  good Data:  (0, 1, 2, 2, 0, 1) Actual:  good\n",
      "Predicted:  good Data:  (3, 2, 1, 2, 1, 1) Actual:  good\n",
      "Predicted:  unacc Data:  (2, 0, 0, 2, 1, 2) Actual:  good\n",
      "Predicted:  good Data:  (0, 2, 0, 2, 1, 1) Actual:  good\n",
      "Predicted:  good Data:  (0, 3, 1, 2, 1, 1) Actual:  good\n",
      "Predicted:  vgood Data:  (2, 1, 2, 2, 0, 0) Actual:  vgood\n",
      "Predicted:  good Data:  (2, 0, 1, 0, 1, 2) Actual:  good\n",
      "Predicted:  acc Data:  (2, 1, 1, 1, 2, 0) Actual:  acc\n",
      "Predicted:  good Data:  (0, 0, 1, 0, 1, 0) Actual:  good\n",
      "Predicted:  good Data:  (2, 0, 2, 0, 2, 0) Actual:  good\n",
      "Predicted:  good Data:  (3, 0, 0, 0, 2, 1) Actual:  good\n",
      "Predicted:  good Data:  (3, 2, 3, 0, 1, 0) Actual:  good\n",
      "Predicted:  good Data:  (3, 1, 0, 1, 0, 0) Actual:  unacc\n",
      "Predicted:  good Data:  (1, 1, 3, 0, 0, 1) Actual:  good\n",
      "Predicted:  good Data:  (0, 2, 0, 1, 0, 1) Actual:  good\n",
      "Predicted:  good Data:  (2, 0, 1, 1, 2, 1) Actual:  good\n",
      "Predicted:  good Data:  (1, 3, 0, 2, 2, 2) Actual:  good\n",
      "Predicted:  good Data:  (0, 0, 1, 1, 1, 1) Actual:  good\n",
      "Predicted:  acc Data:  (2, 1, 1, 2, 0, 2) Actual:  acc\n",
      "Predicted:  good Data:  (0, 3, 2, 2, 1, 1) Actual:  good\n",
      "Predicted:  good Data:  (3, 2, 3, 0, 0, 1) Actual:  good\n",
      "Predicted:  unacc Data:  (3, 1, 2, 1, 2, 0) Actual:  unacc\n",
      "Predicted:  unacc Data:  (2, 2, 0, 2, 1, 0) Actual:  unacc\n",
      "Predicted:  unacc Data:  (0, 2, 1, 2, 0, 2) Actual:  unacc\n",
      "Predicted:  unacc Data:  (3, 1, 3, 1, 0, 2) Actual:  unacc\n",
      "Predicted:  good Data:  (2, 2, 3, 2, 2, 2) Actual:  unacc\n",
      "Predicted:  acc Data:  (1, 1, 3, 2, 2, 0) Actual:  acc\n",
      "Predicted:  good Data:  (1, 1, 2, 0, 0, 1) Actual:  good\n",
      "Predicted:  good Data:  (0, 0, 0, 1, 0, 1) Actual:  good\n",
      "Predicted:  vgood Data:  (2, 1, 3, 2, 1, 0) Actual:  vgood\n",
      "Predicted:  unacc Data:  (0, 0, 0, 2, 1, 0) Actual:  unacc\n",
      "Predicted:  good Data:  (1, 3, 3, 0, 0, 0) Actual:  good\n",
      "Predicted:  unacc Data:  (0, 0, 1, 2, 0, 0) Actual:  unacc\n",
      "Predicted:  good Data:  (3, 0, 0, 2, 2, 1) Actual:  good\n",
      "Predicted:  unacc Data:  (0, 2, 1, 2, 0, 0) Actual:  unacc\n",
      "Predicted:  good Data:  (3, 1, 3, 0, 2, 2) Actual:  good\n",
      "Predicted:  good Data:  (0, 0, 3, 0, 2, 2) Actual:  good\n",
      "Predicted:  good Data:  (0, 3, 3, 1, 0, 1) Actual:  good\n",
      "Predicted:  good Data:  (2, 3, 1, 0, 1, 1) Actual:  good\n",
      "Predicted:  unacc Data:  (0, 0, 2, 2, 0, 0) Actual:  unacc\n",
      "Predicted:  good Data:  (3, 0, 0, 0, 1, 1) Actual:  good\n",
      "Predicted:  good Data:  (0, 2, 2, 0, 1, 0) Actual:  good\n",
      "Predicted:  good Data:  (0, 0, 0, 2, 1, 1) Actual:  good\n",
      "Predicted:  good Data:  (0, 3, 3, 1, 1, 1) Actual:  good\n",
      "Predicted:  unacc Data:  (0, 2, 2, 1, 2, 0) Actual:  unacc\n",
      "Predicted:  good Data:  (1, 0, 1, 1, 0, 1) Actual:  good\n",
      "Predicted:  good Data:  (0, 2, 3, 2, 1, 1) Actual:  good\n",
      "Predicted:  good Data:  (0, 0, 1, 0, 1, 2) Actual:  good\n",
      "Predicted:  good Data:  (0, 1, 2, 0, 2, 0) Actual:  good\n",
      "Predicted:  good Data:  (2, 1, 2, 0, 1, 1) Actual:  good\n",
      "Predicted:  good Data:  (0, 0, 2, 0, 1, 0) Actual:  good\n",
      "Predicted:  good Data:  (0, 3, 1, 2, 1, 2) Actual:  good\n",
      "Predicted:  good Data:  (0, 2, 3, 0, 2, 1) Actual:  good\n",
      "Predicted:  good Data:  (1, 2, 0, 0, 1, 0) Actual:  good\n",
      "Predicted:  good Data:  (2, 0, 0, 2, 2, 1) Actual:  good\n",
      "Predicted:  good Data:  (3, 2, 2, 1, 1, 2) Actual:  unacc\n",
      "Predicted:  good Data:  (2, 1, 2, 0, 2, 2) Actual:  good\n",
      "Predicted:  good Data:  (1, 0, 0, 2, 0, 1) Actual:  good\n",
      "Predicted:  unacc Data:  (2, 0, 3, 2, 2, 0) Actual:  unacc\n",
      "Predicted:  good Data:  (3, 1, 3, 1, 1, 2) Actual:  unacc\n",
      "Predicted:  good Data:  (3, 3, 3, 1, 2, 2) Actual:  good\n",
      "Predicted:  acc Data:  (2, 1, 2, 2, 0, 2) Actual:  acc\n",
      "Predicted:  good Data:  (0, 3, 2, 2, 0, 0) Actual:  good\n",
      "Predicted:  good Data:  (0, 2, 2, 0, 2, 2) Actual:  good\n",
      "Predicted:  good Data:  (2, 0, 2, 2, 2, 1) Actual:  good\n",
      "Predicted:  good Data:  (1, 0, 1, 0, 2, 2) Actual:  good\n",
      "Predicted:  good Data:  (3, 0, 1, 2, 1, 0) Actual:  good\n",
      "Predicted:  good Data:  (3, 0, 3, 0, 1, 0) Actual:  good\n",
      "Predicted:  vgood Data:  (1, 1, 3, 1, 1, 0) Actual:  vgood\n",
      "Predicted:  good Data:  (1, 1, 3, 0, 1, 2) Actual:  good\n",
      "Predicted:  good Data:  (3, 3, 3, 0, 2, 2) Actual:  good\n",
      "Predicted:  good Data:  (1, 2, 1, 2, 1, 1) Actual:  good\n",
      "Predicted:  good Data:  (3, 3, 1, 2, 0, 0) Actual:  good\n",
      "Predicted:  good Data:  (2, 3, 0, 2, 0, 1) Actual:  good\n",
      "Predicted:  good Data:  (3, 0, 3, 1, 1, 2) Actual:  good\n",
      "Predicted:  good Data:  (0, 1, 1, 2, 2, 1) Actual:  good\n",
      "Predicted:  good Data:  (1, 0, 2, 2, 2, 1) Actual:  good\n",
      "Predicted:  good Data:  (3, 3, 3, 2, 0, 0) Actual:  good\n",
      "Predicted:  vgood Data:  (1, 2, 1, 2, 0, 0) Actual:  vgood\n",
      "Predicted:  good Data:  (3, 3, 2, 1, 2, 0) Actual:  good\n",
      "Predicted:  good Data:  (3, 2, 3, 0, 0, 0) Actual:  good\n",
      "Predicted:  good Data:  (1, 2, 1, 1, 0, 0) Actual:  vgood\n",
      "Predicted:  good Data:  (1, 1, 2, 0, 1, 0) Actual:  good\n",
      "Predicted:  good Data:  (3, 1, 0, 1, 1, 1) Actual:  good\n",
      "Predicted:  good Data:  (2, 2, 2, 0, 2, 2) Actual:  good\n",
      "Predicted:  good Data:  (3, 1, 1, 0, 2, 1) Actual:  good\n",
      "Predicted:  good Data:  (0, 0, 2, 1, 1, 2) Actual:  unacc\n",
      "Predicted:  unacc Data:  (3, 1, 2, 2, 1, 2) Actual:  unacc\n",
      "Predicted:  good Data:  (3, 3, 0, 0, 0, 0) Actual:  good\n",
      "Predicted:  unacc Data:  (3, 1, 3, 2, 1, 0) Actual:  unacc\n",
      "Predicted:  good Data:  (1, 3, 1, 1, 1, 2) Actual:  good\n",
      "Predicted:  unacc Data:  (1, 3, 3, 2, 1, 0) Actual:  unacc\n",
      "Predicted:  good Data:  (1, 0, 1, 2, 1, 1) Actual:  good\n",
      "Predicted:  good Data:  (0, 3, 3, 2, 2, 1) Actual:  good\n",
      "Predicted:  good Data:  (3, 0, 2, 1, 0, 1) Actual:  good\n",
      "Predicted:  good Data:  (1, 3, 3, 1, 0, 1) Actual:  good\n",
      "Predicted:  good Data:  (2, 3, 1, 1, 0, 1) Actual:  good\n",
      "Predicted:  good Data:  (3, 2, 3, 0, 1, 2) Actual:  good\n",
      "Predicted:  unacc Data:  (1, 1, 1, 1, 0, 2) Actual:  acc\n",
      "Predicted:  unacc Data:  (1, 1, 0, 2, 1, 2) Actual:  unacc\n",
      "Predicted:  unacc Data:  (2, 0, 3, 2, 0, 2) Actual:  unacc\n",
      "Predicted:  good Data:  (1, 0, 2, 0, 2, 1) Actual:  good\n",
      "Predicted:  good Data:  (2, 3, 3, 0, 1, 1) Actual:  good\n",
      "Predicted:  good Data:  (0, 1, 0, 0, 1, 1) Actual:  good\n",
      "Predicted:  good Data:  (3, 1, 2, 0, 1, 2) Actual:  good\n",
      "Predicted:  good Data:  (3, 1, 3, 1, 2, 1) Actual:  good\n",
      "Predicted:  unacc Data:  (3, 2, 1, 2, 0, 2) Actual:  unacc\n",
      "Predicted:  unacc Data:  (1, 2, 0, 2, 2, 2) Actual:  good\n",
      "Predicted:  good Data:  (1, 2, 1, 0, 2, 1) Actual:  good\n",
      "Predicted:  good Data:  (2, 3, 1, 2, 2, 1) Actual:  good\n",
      "Predicted:  good Data:  (1, 3, 1, 2, 1, 1) Actual:  good\n",
      "Predicted:  good Data:  (0, 1, 0, 0, 2, 2) Actual:  good\n",
      "Predicted:  unacc Data:  (2, 1, 0, 2, 1, 0) Actual:  acc\n",
      "Predicted:  good Data:  (2, 2, 2, 2, 2, 1) Actual:  good\n",
      "Predicted:  good Data:  (0, 1, 1, 2, 2, 2) Actual:  good\n",
      "Predicted:  good Data:  (0, 2, 2, 0, 2, 1) Actual:  good\n",
      "Predicted:  good Data:  (1, 0, 0, 2, 2, 1) Actual:  good\n"
     ]
    }
   ],
   "source": [
    "names = ['unacc', 'acc', 'good', 'vgood']\n",
    "\n",
    "for x in range(len(x_test)):\n",
    "    print('Predicted: ', names[predicted[x]], 'Data: ', x_test[x], 'Actual: ', names[y_test[x]])"
   ]
  },
  {
   "cell_type": "code",
   "execution_count": null,
   "metadata": {},
   "outputs": [],
   "source": [
    "predicted = model.predict(x_test)\n",
    "\n",
    "for x in range(len(x_test)):\n",
    "    print('Predicted: ', predicted[x], 'Data: ', x_test[x], 'Actual: ', y_test[x])\n",
    "    \n",
    "    # Finds the K-neighbors of a point. Returns indices of and distances to the neighbors of each point.\n",
    "    n = model.kneighbors([x_test[x]], n_neighbors = 9, return_distance = True)\n",
    "    print('N: ', n)\n",
    "    \n",
    "# Next step is to plot these onto a graph with the indices"
   ]
  },
  {
   "cell_type": "code",
   "execution_count": null,
   "metadata": {},
   "outputs": [],
   "source": []
  },
  {
   "cell_type": "code",
   "execution_count": null,
   "metadata": {},
   "outputs": [],
   "source": []
  }
 ],
 "metadata": {
  "kernelspec": {
   "display_name": "Python 3",
   "language": "python",
   "name": "python3"
  },
  "language_info": {
   "codemirror_mode": {
    "name": "ipython",
    "version": 3
   },
   "file_extension": ".py",
   "mimetype": "text/x-python",
   "name": "python",
   "nbconvert_exporter": "python",
   "pygments_lexer": "ipython3",
   "version": "3.7.7"
  }
 },
 "nbformat": 4,
 "nbformat_minor": 4
}
