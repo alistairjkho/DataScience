{
 "cells": [
  {
   "cell_type": "markdown",
   "metadata": {},
   "source": [
    "# ML K-Means Clustering - Unsupervised learning classifier"
   ]
  },
  {
   "cell_type": "markdown",
   "metadata": {},
   "source": [
    "Based on Tech with Tim's YouTube Channel\n",
    "\n",
    "https://www.youtube.com/watch?v=g1Zbuk1gAfk&t\n",
    "\n",
    "https://techwithtim.net/tutorials/machine-learning-python/k-means-1/\n",
    "\n",
    "https://techwithtim.net/tutorials/machine-learning-python/k-means-2/"
   ]
  },
  {
   "cell_type": "markdown",
   "metadata": {},
   "source": [
    "* K in K-means clustering stands for how many clusters\n",
    "* Centroids in clusters to segment clusters from others based on points that are closest in distance to centroid\n",
    "* Begins by creating centroids in random positions on the graph dependent on value of K\n",
    "* K= 3 then 3 centroids placed"
   ]
  },
  {
   "cell_type": "markdown",
   "metadata": {},
   "source": [
    "<img src = https://miro.medium.com/max/1200/1*rw8IUza1dbffBhiA4i0GNQ.png>"
   ]
  },
  {
   "cell_type": "markdown",
   "metadata": {},
   "source": [
    "# Centroids are an iterative process to get them closer to the clusters\n",
    "\n",
    "<img src = https://www.researchgate.net/profile/Patricio_Benavente/publication/318042263/figure/fig1/AS:662908132397056@1535061023270/K-means-example-in-2D-space-a-Cluster-centroids-are-initialized-at-random-positions.png>"
   ]
  },
  {
   "cell_type": "markdown",
   "metadata": {},
   "source": [
    "<img src = https://ds055uzetaobb.cloudfront.net/brioche/uploads/y4KGN92h7r-screen-shot-2016-05-05-at-43007-pm.png>"
   ]
  },
  {
   "cell_type": "markdown",
   "metadata": {},
   "source": [
    "### Centroids central calculation by combining all the distances between the coordinate of the points and dividing by total number of points\n",
    "\n",
    "\\begin{align}\n",
    "\\frac{x_1 + x_2 + x_3 + \\ldots}{n}\n",
    "\\end{align}\n",
    "\n",
    "OR using positional coordinates\n",
    "\n",
    "\\begin{align}\n",
    "\\frac{P_1X_1 + P_2X_2 + P_3X_3 + \\ldots}{n}\n",
    "\\end{align}\n",
    "\n",
    "Repeat this process until no changes of points from their designated clusters"
   ]
  },
  {
   "cell_type": "markdown",
   "metadata": {},
   "source": [
    "* Disadvantages include speed as K value increases\n",
    "    * Essentially more centroids with distances between them to calculate\n",
    "    * Number of data points + number of centroids + iterations to find optimal centroid position + features to determine"
   ]
  },
  {
   "cell_type": "code",
   "execution_count": 3,
   "metadata": {},
   "outputs": [],
   "source": [
    "import pandas as pd\n",
    "import seaborn as sns\n",
    "import sklearn\n",
    "import matplotlib.pyplot as plt\n",
    "import numpy as np\n",
    "from sklearn import datasets\n",
    "from sklearn import metrics\n",
    "from sklearn.preprocessing import scale\n",
    "from sklearn.cluster import KMeans"
   ]
  },
  {
   "cell_type": "code",
   "execution_count": 4,
   "metadata": {},
   "outputs": [
    {
     "data": {
      "text/plain": [
       "array([[ 0.,  0.,  5., ...,  0.,  0.,  0.],\n",
       "       [ 0.,  0.,  0., ..., 10.,  0.,  0.],\n",
       "       [ 0.,  0.,  0., ..., 16.,  9.,  0.],\n",
       "       ...,\n",
       "       [ 0.,  0.,  1., ...,  6.,  0.,  0.],\n",
       "       [ 0.,  0.,  2., ..., 12.,  0.,  0.],\n",
       "       [ 0.,  0., 10., ..., 12.,  1.,  0.]])"
      ]
     },
     "execution_count": 4,
     "metadata": {},
     "output_type": "execute_result"
    }
   ],
   "source": [
    "# Loading dataset\n",
    "digits = datasets.load_digits()\n",
    "digits.data"
   ]
  },
  {
   "cell_type": "code",
   "execution_count": 5,
   "metadata": {},
   "outputs": [
    {
     "data": {
      "text/html": [
       "<div>\n",
       "<style scoped>\n",
       "    .dataframe tbody tr th:only-of-type {\n",
       "        vertical-align: middle;\n",
       "    }\n",
       "\n",
       "    .dataframe tbody tr th {\n",
       "        vertical-align: top;\n",
       "    }\n",
       "\n",
       "    .dataframe thead th {\n",
       "        text-align: right;\n",
       "    }\n",
       "</style>\n",
       "<table border=\"1\" class=\"dataframe\">\n",
       "  <thead>\n",
       "    <tr style=\"text-align: right;\">\n",
       "      <th></th>\n",
       "      <th>0</th>\n",
       "      <th>1</th>\n",
       "      <th>2</th>\n",
       "      <th>3</th>\n",
       "      <th>4</th>\n",
       "      <th>5</th>\n",
       "      <th>6</th>\n",
       "      <th>7</th>\n",
       "      <th>8</th>\n",
       "      <th>9</th>\n",
       "      <th>...</th>\n",
       "      <th>54</th>\n",
       "      <th>55</th>\n",
       "      <th>56</th>\n",
       "      <th>57</th>\n",
       "      <th>58</th>\n",
       "      <th>59</th>\n",
       "      <th>60</th>\n",
       "      <th>61</th>\n",
       "      <th>62</th>\n",
       "      <th>63</th>\n",
       "    </tr>\n",
       "  </thead>\n",
       "  <tbody>\n",
       "    <tr>\n",
       "      <th>0</th>\n",
       "      <td>0.0</td>\n",
       "      <td>-0.335016</td>\n",
       "      <td>-0.043081</td>\n",
       "      <td>0.274072</td>\n",
       "      <td>-0.664478</td>\n",
       "      <td>-0.844129</td>\n",
       "      <td>-0.409724</td>\n",
       "      <td>-0.125023</td>\n",
       "      <td>-0.059078</td>\n",
       "      <td>-0.624009</td>\n",
       "      <td>...</td>\n",
       "      <td>-0.757436</td>\n",
       "      <td>-0.209785</td>\n",
       "      <td>-0.023596</td>\n",
       "      <td>-0.299081</td>\n",
       "      <td>0.086719</td>\n",
       "      <td>0.208293</td>\n",
       "      <td>-0.366771</td>\n",
       "      <td>-1.146647</td>\n",
       "      <td>-0.505670</td>\n",
       "      <td>-0.196008</td>\n",
       "    </tr>\n",
       "    <tr>\n",
       "      <th>1</th>\n",
       "      <td>0.0</td>\n",
       "      <td>-0.335016</td>\n",
       "      <td>-1.094937</td>\n",
       "      <td>0.038648</td>\n",
       "      <td>0.268751</td>\n",
       "      <td>-0.138020</td>\n",
       "      <td>-0.409724</td>\n",
       "      <td>-0.125023</td>\n",
       "      <td>-0.059078</td>\n",
       "      <td>-0.624009</td>\n",
       "      <td>...</td>\n",
       "      <td>-0.757436</td>\n",
       "      <td>-0.209785</td>\n",
       "      <td>-0.023596</td>\n",
       "      <td>-0.299081</td>\n",
       "      <td>-1.089383</td>\n",
       "      <td>-0.249010</td>\n",
       "      <td>0.849632</td>\n",
       "      <td>0.548561</td>\n",
       "      <td>-0.505670</td>\n",
       "      <td>-0.196008</td>\n",
       "    </tr>\n",
       "    <tr>\n",
       "      <th>2</th>\n",
       "      <td>0.0</td>\n",
       "      <td>-0.335016</td>\n",
       "      <td>-1.094937</td>\n",
       "      <td>-1.844742</td>\n",
       "      <td>0.735366</td>\n",
       "      <td>1.097673</td>\n",
       "      <td>-0.409724</td>\n",
       "      <td>-0.125023</td>\n",
       "      <td>-0.059078</td>\n",
       "      <td>-0.624009</td>\n",
       "      <td>...</td>\n",
       "      <td>0.259230</td>\n",
       "      <td>-0.209785</td>\n",
       "      <td>-0.023596</td>\n",
       "      <td>-0.299081</td>\n",
       "      <td>-1.089383</td>\n",
       "      <td>-2.078218</td>\n",
       "      <td>-0.164037</td>\n",
       "      <td>1.565686</td>\n",
       "      <td>1.695137</td>\n",
       "      <td>-0.196008</td>\n",
       "    </tr>\n",
       "    <tr>\n",
       "      <th>3</th>\n",
       "      <td>0.0</td>\n",
       "      <td>-0.335016</td>\n",
       "      <td>0.377661</td>\n",
       "      <td>0.744919</td>\n",
       "      <td>0.268751</td>\n",
       "      <td>-0.844129</td>\n",
       "      <td>-0.409724</td>\n",
       "      <td>-0.125023</td>\n",
       "      <td>-0.059078</td>\n",
       "      <td>1.879691</td>\n",
       "      <td>...</td>\n",
       "      <td>1.072563</td>\n",
       "      <td>-0.209785</td>\n",
       "      <td>-0.023596</td>\n",
       "      <td>-0.299081</td>\n",
       "      <td>0.282736</td>\n",
       "      <td>0.208293</td>\n",
       "      <td>0.241430</td>\n",
       "      <td>0.379040</td>\n",
       "      <td>-0.505670</td>\n",
       "      <td>-0.196008</td>\n",
       "    </tr>\n",
       "    <tr>\n",
       "      <th>4</th>\n",
       "      <td>0.0</td>\n",
       "      <td>-0.335016</td>\n",
       "      <td>-1.094937</td>\n",
       "      <td>-2.551014</td>\n",
       "      <td>-0.197863</td>\n",
       "      <td>-1.020657</td>\n",
       "      <td>-0.409724</td>\n",
       "      <td>-0.125023</td>\n",
       "      <td>-0.059078</td>\n",
       "      <td>-0.624009</td>\n",
       "      <td>...</td>\n",
       "      <td>-0.757436</td>\n",
       "      <td>-0.209785</td>\n",
       "      <td>-0.023596</td>\n",
       "      <td>-0.299081</td>\n",
       "      <td>-1.089383</td>\n",
       "      <td>-2.306869</td>\n",
       "      <td>0.849632</td>\n",
       "      <td>-0.468564</td>\n",
       "      <td>-0.505670</td>\n",
       "      <td>-0.196008</td>\n",
       "    </tr>\n",
       "    <tr>\n",
       "      <th>...</th>\n",
       "      <td>...</td>\n",
       "      <td>...</td>\n",
       "      <td>...</td>\n",
       "      <td>...</td>\n",
       "      <td>...</td>\n",
       "      <td>...</td>\n",
       "      <td>...</td>\n",
       "      <td>...</td>\n",
       "      <td>...</td>\n",
       "      <td>...</td>\n",
       "      <td>...</td>\n",
       "      <td>...</td>\n",
       "      <td>...</td>\n",
       "      <td>...</td>\n",
       "      <td>...</td>\n",
       "      <td>...</td>\n",
       "      <td>...</td>\n",
       "      <td>...</td>\n",
       "      <td>...</td>\n",
       "      <td>...</td>\n",
       "      <td>...</td>\n",
       "    </tr>\n",
       "    <tr>\n",
       "      <th>1792</th>\n",
       "      <td>0.0</td>\n",
       "      <td>-0.335016</td>\n",
       "      <td>-0.253452</td>\n",
       "      <td>-0.432200</td>\n",
       "      <td>0.268751</td>\n",
       "      <td>0.038508</td>\n",
       "      <td>-0.409724</td>\n",
       "      <td>-0.125023</td>\n",
       "      <td>-0.059078</td>\n",
       "      <td>-0.311047</td>\n",
       "      <td>...</td>\n",
       "      <td>0.055897</td>\n",
       "      <td>-0.209785</td>\n",
       "      <td>-0.023596</td>\n",
       "      <td>-0.299081</td>\n",
       "      <td>-0.697349</td>\n",
       "      <td>0.436944</td>\n",
       "      <td>0.646898</td>\n",
       "      <td>0.379040</td>\n",
       "      <td>-0.505670</td>\n",
       "      <td>-0.196008</td>\n",
       "    </tr>\n",
       "    <tr>\n",
       "      <th>1793</th>\n",
       "      <td>0.0</td>\n",
       "      <td>-0.335016</td>\n",
       "      <td>0.167290</td>\n",
       "      <td>0.980343</td>\n",
       "      <td>0.268751</td>\n",
       "      <td>0.921145</td>\n",
       "      <td>-0.108958</td>\n",
       "      <td>-0.125023</td>\n",
       "      <td>-0.059078</td>\n",
       "      <td>-0.624009</td>\n",
       "      <td>...</td>\n",
       "      <td>-0.554103</td>\n",
       "      <td>-0.209785</td>\n",
       "      <td>-0.023596</td>\n",
       "      <td>-0.299081</td>\n",
       "      <td>0.086719</td>\n",
       "      <td>0.894246</td>\n",
       "      <td>0.444164</td>\n",
       "      <td>-0.129523</td>\n",
       "      <td>-0.505670</td>\n",
       "      <td>-0.196008</td>\n",
       "    </tr>\n",
       "    <tr>\n",
       "      <th>1794</th>\n",
       "      <td>0.0</td>\n",
       "      <td>-0.335016</td>\n",
       "      <td>-0.884566</td>\n",
       "      <td>-0.196776</td>\n",
       "      <td>0.735366</td>\n",
       "      <td>-0.844129</td>\n",
       "      <td>-0.409724</td>\n",
       "      <td>-0.125023</td>\n",
       "      <td>-0.059078</td>\n",
       "      <td>-0.624009</td>\n",
       "      <td>...</td>\n",
       "      <td>-0.757436</td>\n",
       "      <td>-0.209785</td>\n",
       "      <td>-0.023596</td>\n",
       "      <td>-0.299081</td>\n",
       "      <td>-0.697349</td>\n",
       "      <td>-0.706312</td>\n",
       "      <td>0.241430</td>\n",
       "      <td>-0.129523</td>\n",
       "      <td>-0.505670</td>\n",
       "      <td>-0.196008</td>\n",
       "    </tr>\n",
       "    <tr>\n",
       "      <th>1795</th>\n",
       "      <td>0.0</td>\n",
       "      <td>-0.335016</td>\n",
       "      <td>-0.674195</td>\n",
       "      <td>-0.432200</td>\n",
       "      <td>-1.131092</td>\n",
       "      <td>-1.020657</td>\n",
       "      <td>-0.409724</td>\n",
       "      <td>-0.125023</td>\n",
       "      <td>-0.059078</td>\n",
       "      <td>-0.624009</td>\n",
       "      <td>...</td>\n",
       "      <td>-0.350769</td>\n",
       "      <td>-0.209785</td>\n",
       "      <td>-0.023596</td>\n",
       "      <td>-0.299081</td>\n",
       "      <td>-0.109298</td>\n",
       "      <td>-0.020358</td>\n",
       "      <td>0.849632</td>\n",
       "      <td>0.887602</td>\n",
       "      <td>-0.505670</td>\n",
       "      <td>-0.196008</td>\n",
       "    </tr>\n",
       "    <tr>\n",
       "      <th>1796</th>\n",
       "      <td>0.0</td>\n",
       "      <td>-0.335016</td>\n",
       "      <td>1.008775</td>\n",
       "      <td>0.509495</td>\n",
       "      <td>-0.897785</td>\n",
       "      <td>-0.844129</td>\n",
       "      <td>-0.409724</td>\n",
       "      <td>-0.125023</td>\n",
       "      <td>-0.059078</td>\n",
       "      <td>0.001916</td>\n",
       "      <td>...</td>\n",
       "      <td>0.869229</td>\n",
       "      <td>-0.209785</td>\n",
       "      <td>-0.023596</td>\n",
       "      <td>0.771535</td>\n",
       "      <td>0.478753</td>\n",
       "      <td>-0.020358</td>\n",
       "      <td>0.444164</td>\n",
       "      <td>0.887602</td>\n",
       "      <td>-0.261136</td>\n",
       "      <td>-0.196008</td>\n",
       "    </tr>\n",
       "  </tbody>\n",
       "</table>\n",
       "<p>1797 rows × 64 columns</p>\n",
       "</div>"
      ],
      "text/plain": [
       "       0         1         2         3         4         5         6   \\\n",
       "0     0.0 -0.335016 -0.043081  0.274072 -0.664478 -0.844129 -0.409724   \n",
       "1     0.0 -0.335016 -1.094937  0.038648  0.268751 -0.138020 -0.409724   \n",
       "2     0.0 -0.335016 -1.094937 -1.844742  0.735366  1.097673 -0.409724   \n",
       "3     0.0 -0.335016  0.377661  0.744919  0.268751 -0.844129 -0.409724   \n",
       "4     0.0 -0.335016 -1.094937 -2.551014 -0.197863 -1.020657 -0.409724   \n",
       "...   ...       ...       ...       ...       ...       ...       ...   \n",
       "1792  0.0 -0.335016 -0.253452 -0.432200  0.268751  0.038508 -0.409724   \n",
       "1793  0.0 -0.335016  0.167290  0.980343  0.268751  0.921145 -0.108958   \n",
       "1794  0.0 -0.335016 -0.884566 -0.196776  0.735366 -0.844129 -0.409724   \n",
       "1795  0.0 -0.335016 -0.674195 -0.432200 -1.131092 -1.020657 -0.409724   \n",
       "1796  0.0 -0.335016  1.008775  0.509495 -0.897785 -0.844129 -0.409724   \n",
       "\n",
       "            7         8         9   ...        54        55        56  \\\n",
       "0    -0.125023 -0.059078 -0.624009  ... -0.757436 -0.209785 -0.023596   \n",
       "1    -0.125023 -0.059078 -0.624009  ... -0.757436 -0.209785 -0.023596   \n",
       "2    -0.125023 -0.059078 -0.624009  ...  0.259230 -0.209785 -0.023596   \n",
       "3    -0.125023 -0.059078  1.879691  ...  1.072563 -0.209785 -0.023596   \n",
       "4    -0.125023 -0.059078 -0.624009  ... -0.757436 -0.209785 -0.023596   \n",
       "...        ...       ...       ...  ...       ...       ...       ...   \n",
       "1792 -0.125023 -0.059078 -0.311047  ...  0.055897 -0.209785 -0.023596   \n",
       "1793 -0.125023 -0.059078 -0.624009  ... -0.554103 -0.209785 -0.023596   \n",
       "1794 -0.125023 -0.059078 -0.624009  ... -0.757436 -0.209785 -0.023596   \n",
       "1795 -0.125023 -0.059078 -0.624009  ... -0.350769 -0.209785 -0.023596   \n",
       "1796 -0.125023 -0.059078  0.001916  ...  0.869229 -0.209785 -0.023596   \n",
       "\n",
       "            57        58        59        60        61        62        63  \n",
       "0    -0.299081  0.086719  0.208293 -0.366771 -1.146647 -0.505670 -0.196008  \n",
       "1    -0.299081 -1.089383 -0.249010  0.849632  0.548561 -0.505670 -0.196008  \n",
       "2    -0.299081 -1.089383 -2.078218 -0.164037  1.565686  1.695137 -0.196008  \n",
       "3    -0.299081  0.282736  0.208293  0.241430  0.379040 -0.505670 -0.196008  \n",
       "4    -0.299081 -1.089383 -2.306869  0.849632 -0.468564 -0.505670 -0.196008  \n",
       "...        ...       ...       ...       ...       ...       ...       ...  \n",
       "1792 -0.299081 -0.697349  0.436944  0.646898  0.379040 -0.505670 -0.196008  \n",
       "1793 -0.299081  0.086719  0.894246  0.444164 -0.129523 -0.505670 -0.196008  \n",
       "1794 -0.299081 -0.697349 -0.706312  0.241430 -0.129523 -0.505670 -0.196008  \n",
       "1795 -0.299081 -0.109298 -0.020358  0.849632  0.887602 -0.505670 -0.196008  \n",
       "1796  0.771535  0.478753 -0.020358  0.444164  0.887602 -0.261136 -0.196008  \n",
       "\n",
       "[1797 rows x 64 columns]"
      ]
     },
     "execution_count": 5,
     "metadata": {},
     "output_type": "execute_result"
    }
   ],
   "source": [
    "# Using SKLearn scale to rescale between -1 and 1 as this dataset is pixel values\n",
    "# This is so to save computation time, especially in distance computation for working out centroids\n",
    "# Also makes training easier and more accurate\n",
    "\n",
    "data = scale(digits.data)\n",
    "rescaled = pd.DataFrame(data)\n",
    "rescaled"
   ]
  },
  {
   "cell_type": "code",
   "execution_count": 9,
   "metadata": {},
   "outputs": [
    {
     "data": {
      "image/png": "[encoded data removed]",
      "text/plain": [
       "<Figure size 720x720 with 25 Axes>"
      ]
     },
     "metadata": {},
     "output_type": "display_data"
    }
   ],
   "source": [
    "# Display what the images contain\n",
    "\n",
    "plt.figure(figsize=(10,10))\n",
    "for i in range(25):\n",
    "    plt.subplot(5,5,i+1)\n",
    "    plt.xticks([])\n",
    "    plt.yticks([])\n",
    "    plt.grid(False)\n",
    "    plt.imshow(digits.images[i], cmap=plt.cm.binary)\n",
    "    plt.xlabel(digits.target[i])\n",
    "plt.show()"
   ]
  },
  {
   "cell_type": "code",
   "execution_count": 10,
   "metadata": {},
   "outputs": [],
   "source": [
    "# separate the data from the target attributes\n",
    "\n",
    "x = digits.data\n",
    "y = digits.target\n",
    "\n",
    "\n",
    "\n",
    "# define the amount of clusters by creating a variable k\n",
    "\n",
    "# k = len(np.unique(y)) # Use the length of the unique numbers, fancy way :) if changing the amount of centroids\n",
    "\n",
    "k = 10 # number of classifications, which is 10 digits on the hand here"
   ]
  },
  {
   "cell_type": "code",
   "execution_count": 11,
   "metadata": {},
   "outputs": [
    {
     "data": {
      "text/plain": [
       "10"
      ]
     },
     "execution_count": 11,
     "metadata": {},
     "output_type": "execute_result"
    }
   ],
   "source": [
    "len(np.unique(y))"
   ]
  },
  {
   "cell_type": "code",
   "execution_count": 12,
   "metadata": {},
   "outputs": [],
   "source": [
    "samples, features = data.shape"
   ]
  },
  {
   "cell_type": "markdown",
   "metadata": {},
   "source": [
    "# Scoring Function"
   ]
  },
  {
   "cell_type": "markdown",
   "metadata": {},
   "source": [
    "* To score our model we are going to use a function from the sklearn website. \n",
    "* It computes many different scores for different parts of our model. \n",
    "* If you’d like to learn more about what these values mean please visit https://scikit-learn.org/stable/modules/clustering.html#clustering-evaluation"
   ]
  },
  {
   "cell_type": "code",
   "execution_count": 13,
   "metadata": {},
   "outputs": [],
   "source": [
    "# Different functions for scoring the model and getting the best accuracy\n",
    "# Allows training of a ton of different classifiers and score by calling this function\n",
    "# This function gets the y values defined above (target) and compare them with the estimator labels for each of the data\n",
    "# In unsupervised learning, no y values are required to train, as it automatically generates a y value for every single test data point given\n",
    "# Therefore splitting data is not necessary\n",
    "\n",
    "def bench_k_means(estimator, name, data):\n",
    "    estimator.fit(data)\n",
    "    print('%-9s\\t%i\\t%.3f\\t%.3f\\t%.3f\\t%.3f\\t%.3f\\t%.3f'\n",
    "          % (name, estimator.inertia_,\n",
    "             metrics.homogeneity_score(y, estimator.labels_),\n",
    "             metrics.completeness_score(y, estimator.labels_),\n",
    "             metrics.v_measure_score(y, estimator.labels_),\n",
    "             metrics.adjusted_rand_score(y, estimator.labels_),\n",
    "             metrics.adjusted_mutual_info_score(y,  estimator.labels_),\n",
    "             metrics.silhouette_score(data, estimator.labels_,\n",
    "                                      metric='euclidean'))) # absolute distance between two points/vector in space"
   ]
  },
  {
   "cell_type": "markdown",
   "metadata": {},
   "source": [
    "# Training and scoring the model"
   ]
  },
  {
   "cell_type": "code",
   "execution_count": 14,
   "metadata": {},
   "outputs": [
    {
     "name": "stdout",
     "output_type": "stream",
     "text": [
      "Scoring  \t69685\t0.666\t0.709\t0.687\t0.548\t0.684\t0.149\n"
     ]
    }
   ],
   "source": [
    "# Classifier\n",
    "# KMeans requires amount of centroids, amount of times to reiterate the classifier\n",
    "# n_clusters = number of centroids\n",
    "# init = how the centroids are intially placed, randomly or in equal distances to each other\n",
    "# n_init = Number of time the k-means algorithm will be run with different centroid seeds, and takes the best value\n",
    "\n",
    "model = KMeans(n_clusters=k, init='random', n_init=10, max_iter=300)\n",
    "bench_k_means(model, 'Scoring', data)\n",
    "\n",
    "# The higher the values the better"
   ]
  },
  {
   "cell_type": "code",
   "execution_count": 15,
   "metadata": {},
   "outputs": [
    {
     "data": {
      "text/plain": [
       "KMeans(init='random', n_clusters=10)"
      ]
     },
     "execution_count": 15,
     "metadata": {},
     "output_type": "execute_result"
    }
   ],
   "source": [
    "# Another way to train\n",
    "\n",
    "model = KMeans(n_clusters=k, init='random', n_init=10, max_iter=300)\n",
    "model.fit(data)"
   ]
  },
  {
   "cell_type": "markdown",
   "metadata": {},
   "source": [
    "# Evaluating the model"
   ]
  },
  {
   "cell_type": "markdown",
   "metadata": {},
   "source": [
    "* Somehow unable to use model.fit(data)...\n",
    "* Have to convert into labels_ then dataframe"
   ]
  },
  {
   "cell_type": "code",
   "execution_count": 16,
   "metadata": {},
   "outputs": [
    {
     "data": {
      "text/html": [
       "<div>\n",
       "<style scoped>\n",
       "    .dataframe tbody tr th:only-of-type {\n",
       "        vertical-align: middle;\n",
       "    }\n",
       "\n",
       "    .dataframe tbody tr th {\n",
       "        vertical-align: top;\n",
       "    }\n",
       "\n",
       "    .dataframe thead th {\n",
       "        text-align: right;\n",
       "    }\n",
       "</style>\n",
       "<table border=\"1\" class=\"dataframe\">\n",
       "  <thead>\n",
       "    <tr style=\"text-align: right;\">\n",
       "      <th></th>\n",
       "      <th>Predicted</th>\n",
       "    </tr>\n",
       "  </thead>\n",
       "  <tbody>\n",
       "    <tr>\n",
       "      <th>0</th>\n",
       "      <td>2</td>\n",
       "    </tr>\n",
       "    <tr>\n",
       "      <th>1</th>\n",
       "      <td>0</td>\n",
       "    </tr>\n",
       "    <tr>\n",
       "      <th>2</th>\n",
       "      <td>0</td>\n",
       "    </tr>\n",
       "    <tr>\n",
       "      <th>3</th>\n",
       "      <td>9</td>\n",
       "    </tr>\n",
       "    <tr>\n",
       "      <th>4</th>\n",
       "      <td>6</td>\n",
       "    </tr>\n",
       "    <tr>\n",
       "      <th>...</th>\n",
       "      <td>...</td>\n",
       "    </tr>\n",
       "    <tr>\n",
       "      <th>1792</th>\n",
       "      <td>9</td>\n",
       "    </tr>\n",
       "    <tr>\n",
       "      <th>1793</th>\n",
       "      <td>2</td>\n",
       "    </tr>\n",
       "    <tr>\n",
       "      <th>1794</th>\n",
       "      <td>0</td>\n",
       "    </tr>\n",
       "    <tr>\n",
       "      <th>1795</th>\n",
       "      <td>9</td>\n",
       "    </tr>\n",
       "    <tr>\n",
       "      <th>1796</th>\n",
       "      <td>9</td>\n",
       "    </tr>\n",
       "  </tbody>\n",
       "</table>\n",
       "<p>1797 rows × 1 columns</p>\n",
       "</div>"
      ],
      "text/plain": [
       "      Predicted\n",
       "0             2\n",
       "1             0\n",
       "2             0\n",
       "3             9\n",
       "4             6\n",
       "...         ...\n",
       "1792          9\n",
       "1793          2\n",
       "1794          0\n",
       "1795          9\n",
       "1796          9\n",
       "\n",
       "[1797 rows x 1 columns]"
      ]
     },
     "execution_count": 16,
     "metadata": {},
     "output_type": "execute_result"
    }
   ],
   "source": [
    "predictedlab = model.labels_\n",
    "predf = pd.DataFrame(predictedlab, columns=['Predicted'])\n",
    "predf"
   ]
  },
  {
   "cell_type": "code",
   "execution_count": 17,
   "metadata": {},
   "outputs": [
    {
     "data": {
      "text/plain": [
       "numpy.ndarray"
      ]
     },
     "execution_count": 17,
     "metadata": {},
     "output_type": "execute_result"
    }
   ],
   "source": [
    "type(digits.target)"
   ]
  },
  {
   "cell_type": "code",
   "execution_count": 18,
   "metadata": {},
   "outputs": [
    {
     "data": {
      "text/html": [
       "<div>\n",
       "<style scoped>\n",
       "    .dataframe tbody tr th:only-of-type {\n",
       "        vertical-align: middle;\n",
       "    }\n",
       "\n",
       "    .dataframe tbody tr th {\n",
       "        vertical-align: top;\n",
       "    }\n",
       "\n",
       "    .dataframe thead th {\n",
       "        text-align: right;\n",
       "    }\n",
       "</style>\n",
       "<table border=\"1\" class=\"dataframe\">\n",
       "  <thead>\n",
       "    <tr style=\"text-align: right;\">\n",
       "      <th></th>\n",
       "      <th>Actual</th>\n",
       "    </tr>\n",
       "  </thead>\n",
       "  <tbody>\n",
       "    <tr>\n",
       "      <th>0</th>\n",
       "      <td>0</td>\n",
       "    </tr>\n",
       "    <tr>\n",
       "      <th>1</th>\n",
       "      <td>1</td>\n",
       "    </tr>\n",
       "    <tr>\n",
       "      <th>2</th>\n",
       "      <td>2</td>\n",
       "    </tr>\n",
       "    <tr>\n",
       "      <th>3</th>\n",
       "      <td>3</td>\n",
       "    </tr>\n",
       "    <tr>\n",
       "      <th>4</th>\n",
       "      <td>4</td>\n",
       "    </tr>\n",
       "    <tr>\n",
       "      <th>...</th>\n",
       "      <td>...</td>\n",
       "    </tr>\n",
       "    <tr>\n",
       "      <th>1792</th>\n",
       "      <td>9</td>\n",
       "    </tr>\n",
       "    <tr>\n",
       "      <th>1793</th>\n",
       "      <td>0</td>\n",
       "    </tr>\n",
       "    <tr>\n",
       "      <th>1794</th>\n",
       "      <td>8</td>\n",
       "    </tr>\n",
       "    <tr>\n",
       "      <th>1795</th>\n",
       "      <td>9</td>\n",
       "    </tr>\n",
       "    <tr>\n",
       "      <th>1796</th>\n",
       "      <td>8</td>\n",
       "    </tr>\n",
       "  </tbody>\n",
       "</table>\n",
       "<p>1797 rows × 1 columns</p>\n",
       "</div>"
      ],
      "text/plain": [
       "      Actual\n",
       "0          0\n",
       "1          1\n",
       "2          2\n",
       "3          3\n",
       "4          4\n",
       "...      ...\n",
       "1792       9\n",
       "1793       0\n",
       "1794       8\n",
       "1795       9\n",
       "1796       8\n",
       "\n",
       "[1797 rows x 1 columns]"
      ]
     },
     "execution_count": 18,
     "metadata": {},
     "output_type": "execute_result"
    }
   ],
   "source": [
    "actualdf = pd.DataFrame(digits.target, columns=['Actual']) \n",
    "actualdf"
   ]
  },
  {
   "cell_type": "code",
   "execution_count": 19,
   "metadata": {},
   "outputs": [
    {
     "data": {
      "text/plain": [
       "<matplotlib.axes._subplots.AxesSubplot at 0x18abe8d6a08>"
      ]
     },
     "execution_count": 19,
     "metadata": {},
     "output_type": "execute_result"
    },
    {
     "data": {
      "image/png": "[encoded data removed]",
      "text/plain": [
       "<Figure size 432x288 with 1 Axes>"
      ]
     },
     "metadata": {
      "needs_background": "light"
     },
     "output_type": "display_data"
    }
   ],
   "source": [
    "sns.countplot(data=predf, x='Predicted')\n",
    "\n",
    "#pretty bad fit..."
   ]
  },
  {
   "cell_type": "code",
   "execution_count": 20,
   "metadata": {},
   "outputs": [
    {
     "data": {
      "text/plain": [
       "<matplotlib.axes._subplots.AxesSubplot at 0x18ac1cb7248>"
      ]
     },
     "execution_count": 20,
     "metadata": {},
     "output_type": "execute_result"
    },
    {
     "data": {
      "image/png": "[encoded data removed]",
      "text/plain": [
       "<Figure size 432x288 with 1 Axes>"
      ]
     },
     "metadata": {
      "needs_background": "light"
     },
     "output_type": "display_data"
    }
   ],
   "source": [
    "sns.countplot(data=actualdf, x='Actual')"
   ]
  },
  {
   "cell_type": "markdown",
   "metadata": {},
   "source": [
    "# User validation"
   ]
  },
  {
   "cell_type": "code",
   "execution_count": 21,
   "metadata": {},
   "outputs": [
    {
     "name": "stdin",
     "output_type": "stream",
     "text": [
      "Pick a number between 0 and 1700 500\n"
     ]
    }
   ],
   "source": [
    "i = int(input('Pick a number between 0 and 1700'))"
   ]
  },
  {
   "cell_type": "code",
   "execution_count": 22,
   "metadata": {},
   "outputs": [
    {
     "name": "stdout",
     "output_type": "stream",
     "text": [
      "Prediction: 9 \n",
      "Actual: 8\n"
     ]
    },
    {
     "data": {
      "text/plain": [
       "<matplotlib.image.AxesImage at 0x18abe949e48>"
      ]
     },
     "execution_count": 22,
     "metadata": {},
     "output_type": "execute_result"
    },
    {
     "data": {
      "image/png": "[encoded data removed]",
      "text/plain": [
       "<Figure size 432x288 with 1 Axes>"
      ]
     },
     "metadata": {
      "needs_background": "light"
     },
     "output_type": "display_data"
    }
   ],
   "source": [
    "print('Prediction:',predictedlab[i],'\\nActual:',digits.target[i])\n",
    "\n",
    "plt.imshow(digits.images[i])"
   ]
  },
  {
   "cell_type": "code",
   "execution_count": 23,
   "metadata": {},
   "outputs": [
    {
     "data": {
      "text/html": [
       "<div>\n",
       "<style scoped>\n",
       "    .dataframe tbody tr th:only-of-type {\n",
       "        vertical-align: middle;\n",
       "    }\n",
       "\n",
       "    .dataframe tbody tr th {\n",
       "        vertical-align: top;\n",
       "    }\n",
       "\n",
       "    .dataframe thead th {\n",
       "        text-align: right;\n",
       "    }\n",
       "</style>\n",
       "<table border=\"1\" class=\"dataframe\">\n",
       "  <thead>\n",
       "    <tr style=\"text-align: right;\">\n",
       "      <th></th>\n",
       "      <th>Predicted</th>\n",
       "      <th>Actual</th>\n",
       "    </tr>\n",
       "  </thead>\n",
       "  <tbody>\n",
       "    <tr>\n",
       "      <th>0</th>\n",
       "      <td>2</td>\n",
       "      <td>0</td>\n",
       "    </tr>\n",
       "    <tr>\n",
       "      <th>1</th>\n",
       "      <td>0</td>\n",
       "      <td>1</td>\n",
       "    </tr>\n",
       "    <tr>\n",
       "      <th>2</th>\n",
       "      <td>0</td>\n",
       "      <td>2</td>\n",
       "    </tr>\n",
       "    <tr>\n",
       "      <th>3</th>\n",
       "      <td>9</td>\n",
       "      <td>3</td>\n",
       "    </tr>\n",
       "    <tr>\n",
       "      <th>4</th>\n",
       "      <td>6</td>\n",
       "      <td>4</td>\n",
       "    </tr>\n",
       "    <tr>\n",
       "      <th>...</th>\n",
       "      <td>...</td>\n",
       "      <td>...</td>\n",
       "    </tr>\n",
       "    <tr>\n",
       "      <th>1792</th>\n",
       "      <td>9</td>\n",
       "      <td>9</td>\n",
       "    </tr>\n",
       "    <tr>\n",
       "      <th>1793</th>\n",
       "      <td>2</td>\n",
       "      <td>0</td>\n",
       "    </tr>\n",
       "    <tr>\n",
       "      <th>1794</th>\n",
       "      <td>0</td>\n",
       "      <td>8</td>\n",
       "    </tr>\n",
       "    <tr>\n",
       "      <th>1795</th>\n",
       "      <td>9</td>\n",
       "      <td>9</td>\n",
       "    </tr>\n",
       "    <tr>\n",
       "      <th>1796</th>\n",
       "      <td>9</td>\n",
       "      <td>8</td>\n",
       "    </tr>\n",
       "  </tbody>\n",
       "</table>\n",
       "<p>1797 rows × 2 columns</p>\n",
       "</div>"
      ],
      "text/plain": [
       "      Predicted  Actual\n",
       "0             2       0\n",
       "1             0       1\n",
       "2             0       2\n",
       "3             9       3\n",
       "4             6       4\n",
       "...         ...     ...\n",
       "1792          9       9\n",
       "1793          2       0\n",
       "1794          0       8\n",
       "1795          9       9\n",
       "1796          9       8\n",
       "\n",
       "[1797 rows x 2 columns]"
      ]
     },
     "execution_count": 23,
     "metadata": {},
     "output_type": "execute_result"
    }
   ],
   "source": [
    "# Cross tabluation table\n",
    "df = pd.DataFrame({'Predicted':predictedlab,'Actual':digits.target})\n",
    "df"
   ]
  },
  {
   "cell_type": "code",
   "execution_count": 24,
   "metadata": {},
   "outputs": [
    {
     "data": {
      "image/png": "[encoded data removed]",
      "text/plain": [
       "<Figure size 432x288 with 1 Axes>"
      ]
     },
     "metadata": {
      "needs_background": "light"
     },
     "output_type": "display_data"
    }
   ],
   "source": [
    "# inertia\n",
    "inertia_list = np.empty(10)\n",
    "for i in range(1,10):\n",
    "    kmeans = KMeans(n_clusters=i)\n",
    "    kmeans.fit(data)\n",
    "    inertia_list[i] = kmeans.inertia_\n",
    "plt.plot(range(0,10),inertia_list,'-o')\n",
    "plt.xlabel('Number of cluster')\n",
    "plt.ylabel('Inertia')\n",
    "plt.show()"
   ]
  },
  {
   "cell_type": "markdown",
   "metadata": {},
   "source": [
    "# User Validation 2"
   ]
  },
  {
   "cell_type": "code",
   "execution_count": 25,
   "metadata": {},
   "outputs": [],
   "source": [
    "import random"
   ]
  },
  {
   "cell_type": "code",
   "execution_count": 26,
   "metadata": {},
   "outputs": [
    {
     "data": {
      "image/png": "[encoded data removed]",
      "text/plain": [
       "<Figure size 432x288 with 1 Axes>"
      ]
     },
     "metadata": {
      "needs_background": "light"
     },
     "output_type": "display_data"
    },
    {
     "data": {
      "image/png": "[encoded data removed]",
      "text/plain": [
       "<Figure size 432x288 with 1 Axes>"
      ]
     },
     "metadata": {
      "needs_background": "light"
     },
     "output_type": "display_data"
    },
    {
     "data": {
      "image/png": "[encoded data removed]",
      "text/plain": [
       "<Figure size 432x288 with 1 Axes>"
      ]
     },
     "metadata": {
      "needs_background": "light"
     },
     "output_type": "display_data"
    },
    {
     "data": {
      "image/png": "[encoded data removed]",
      "text/plain": [
       "<Figure size 432x288 with 1 Axes>"
      ]
     },
     "metadata": {
      "needs_background": "light"
     },
     "output_type": "display_data"
    },
    {
     "data": {
      "image/png": "[encoded data removed]",
      "text/plain": [
       "<Figure size 432x288 with 1 Axes>"
      ]
     },
     "metadata": {
      "needs_background": "light"
     },
     "output_type": "display_data"
    }
   ],
   "source": [
    "for _ in range(5):\n",
    "    i = random.randint(1, 1700)\n",
    "    plt.grid(False)\n",
    "    plt.imshow(digits.images[i], cmap=plt.cm.binary)\n",
    "    plt.xlabel(\"Actual: \" + str(digits.target[i]))\n",
    "    plt.title(\"Prediction: \" + str(predictedlab[i]))\n",
    "    plt.show()"
   ]
  },
  {
   "cell_type": "code",
   "execution_count": 27,
   "metadata": {},
   "outputs": [
    {
     "data": {
      "image/png": "[encoded data removed]",
      "text/plain": [
       "<Figure size 1440x720 with 25 Axes>"
      ]
     },
     "metadata": {},
     "output_type": "display_data"
    }
   ],
   "source": [
    "import random\n",
    "\n",
    "num_rows = 5\n",
    "num_cols = 5\n",
    "num_images = num_rows*num_cols\n",
    "plt.figure(figsize=(2*2*num_cols, 2*num_rows))\n",
    "\n",
    "for _ in range(num_images):\n",
    "    i = random.randint(1, 1700)\n",
    "    plt.subplot(num_rows, 2*num_cols, 2*_+1)\n",
    "    plt.imshow(digits.images[i], cmap=plt.cm.binary)\n",
    "    plt.grid(False)\n",
    "    plt.xticks([])\n",
    "    plt.yticks([])\n",
    "    if predictedlab[i] == digits.target[i]:\n",
    "        color = 'blue'\n",
    "    else:\n",
    "        color = 'red'\n",
    "    plt.xlabel('Actual label: ' + str(digits.target[i]), color=color)\n",
    "    plt.ylabel(\"Prediction: \" + str(predictedlab[i]), color=color)\n"
   ]
  },
  {
   "cell_type": "code",
   "execution_count": 37,
   "metadata": {},
   "outputs": [
    {
     "data": {
      "text/plain": [
       "array([0., 0., 0., 0., 0., 0., 0., 0., 0., 0., 0., 0., 0., 0., 0., 0., 0.,\n",
       "       0., 0., 0., 0., 0., 0., 0., 0., 0., 0., 0., 0., 0., 0., 0., 0., 0.,\n",
       "       0., 0., 1., 1., 0., 0., 0., 0., 0., 0., 0., 0., 0., 4., 0., 0., 0.,\n",
       "       0., 0., 0., 0., 0., 0., 0., 0., 0., 0., 0., 0., 0., 0., 0., 0., 0.,\n",
       "       0., 0., 1., 0., 1., 1., 0., 0., 0., 0., 0., 0., 0., 0., 0., 0., 0.,\n",
       "       0., 0., 0., 0., 0., 0., 0., 0., 0., 0., 0., 1., 1., 2., 0., 0., 0.,\n",
       "       0., 0., 0.])"
      ]
     },
     "execution_count": 37,
     "metadata": {},
     "output_type": "execute_result"
    }
   ],
   "source": [
    "x[predictedlab == 1, 2]"
   ]
  },
  {
   "cell_type": "code",
   "execution_count": 39,
   "metadata": {},
   "outputs": [
    {
     "data": {
      "text/plain": [
       "array([[ 0.00000000e+00, -2.29788223e-01, -2.19408716e-01,\n",
       "         1.29495929e-01,  1.36124266e-01, -1.38019526e-01,\n",
       "        -2.93660895e-01, -1.25022923e-01,  2.90239949e-02,\n",
       "        -3.05852362e-01, -2.39728599e-01,  4.57009866e-01,\n",
       "         5.30827715e-01,  2.40421500e-01, -1.09928320e-01,\n",
       "        -1.30433381e-01,  8.84724482e-02, -3.16806021e-01,\n",
       "        -2.17100081e-01,  7.18673722e-01,  8.31619027e-01,\n",
       "         2.16102544e-01, -2.57237992e-01, -1.14221844e-01,\n",
       "         2.15513918e-01, -4.68525693e-01, -3.13027098e-01,\n",
       "         7.86690751e-01,  6.66941615e-01, -4.83362246e-01,\n",
       "        -5.92867501e-01, -4.72323823e-02,  0.00000000e+00,\n",
       "        -4.79178495e-01, -3.13689327e-02,  8.95672145e-01,\n",
       "         4.00337018e-01, -1.10596190e+00, -8.21521147e-01,\n",
       "         0.00000000e+00, -6.13436689e-02, -1.95824673e-01,\n",
       "         4.66329311e-01,  7.66146833e-01,  6.03394110e-01,\n",
       "        -7.09058053e-01, -7.39813384e-01, -8.87416172e-02,\n",
       "        -3.54332626e-02,  6.70627644e-02,  3.57237679e-01,\n",
       "         4.52652448e-01,  4.73356728e-01, -4.40983806e-01,\n",
       "        -6.01350192e-01, -2.05568824e-01, -2.35964589e-02,\n",
       "        -2.05791165e-01, -2.30487184e-01,  1.12467865e-01,\n",
       "         1.84227533e-01, -3.14518321e-01, -3.31147556e-01,\n",
       "        -1.91544872e-01],\n",
       "       [ 0.00000000e+00, -3.35016487e-01, -1.06889089e+00,\n",
       "        -2.27523157e+00, -1.13428200e-01,  1.14810915e+00,\n",
       "         7.18862723e-01, -6.07407507e-02, -5.90775571e-02,\n",
       "        -5.97183905e-01, -1.43937783e+00, -6.91785024e-01,\n",
       "         6.40719230e-01,  7.32684389e-01,  8.79583060e-01,\n",
       "        -6.13939742e-02, -4.46250733e-02, -2.72140821e-01,\n",
       "        -2.15669176e-01,  8.27042171e-01,  6.33556285e-01,\n",
       "         8.06000769e-01,  5.90908683e-01, -4.90610015e-02,\n",
       "        -3.33797263e-02,  3.22998553e-01,  3.86806033e-01,\n",
       "         4.40065144e-01,  4.37687839e-01,  8.97231050e-01,\n",
       "        -9.65550934e-02, -4.72323823e-02,  0.00000000e+00,\n",
       "        -1.49567874e-01, -1.56736370e-01, -1.81668604e-01,\n",
       "         3.53749687e-01,  4.78506812e-01, -3.91789267e-01,\n",
       "         0.00000000e+00, -6.13436689e-02, -2.50137151e-01,\n",
       "        -6.27361056e-01, -4.18478006e-01,  6.35272284e-01,\n",
       "         5.37190757e-01, -5.36517095e-01, -8.87416172e-02,\n",
       "        -3.54332626e-02, -3.65385189e-01, -1.16661947e+00,\n",
       "        -1.05092722e+00,  5.26975951e-01,  4.20725069e-01,\n",
       "        -4.14674203e-01, -2.09785127e-01, -2.35964589e-02,\n",
       "        -2.99081347e-01, -1.08378260e+00, -2.22629665e+00,\n",
       "        -3.66045965e-02,  6.38971771e-01, -3.52328137e-02,\n",
       "        -1.96007519e-01],\n",
       "       [ 0.00000000e+00, -3.10514060e-01, -2.09040493e-01,\n",
       "         3.04153447e-01, -1.31759477e-01, -4.99900830e-01,\n",
       "        -3.99698405e-01, -1.25022923e-01, -5.90775571e-02,\n",
       "        -3.47559052e-01,  4.16348181e-01,  3.50266465e-01,\n",
       "         2.29730804e-01,  5.29132922e-01, -2.46923245e-01,\n",
       "        -1.30433381e-01, -4.46250733e-02,  3.22768844e-01,\n",
       "         7.57215740e-01, -3.03295664e-01, -8.10412782e-01,\n",
       "         6.99294169e-01,  5.35384147e-01, -1.14221844e-01,\n",
       "        -3.33797263e-02,  8.97991392e-01,  5.73990403e-01,\n",
       "        -1.15606200e+00, -1.57160831e+00,  2.66600741e-01,\n",
       "         1.11973163e+00, -4.72323823e-02,  0.00000000e+00,\n",
       "         1.01054695e+00,  6.07928539e-01, -1.29603384e+00,\n",
       "        -1.71605999e+00,  1.42715576e-02,  1.18819664e+00,\n",
       "         0.00000000e+00, -6.13436689e-02,  6.40960227e-01,\n",
       "         9.72657311e-01, -8.54151351e-01, -9.86330905e-01,\n",
       "         5.48759722e-01,  5.48996926e-01, -8.87416172e-02,\n",
       "        -3.54332626e-02,  5.47025810e-02,  9.83284239e-01,\n",
       "         8.60506029e-02,  1.73016017e-01,  7.55061418e-01,\n",
       "        -2.55880690e-01, -1.87204482e-01, -2.35964589e-02,\n",
       "        -2.93133481e-01, -2.71556759e-01,  3.39131786e-01,\n",
       "         3.13513620e-01, -2.15224768e-01, -4.28234011e-01,\n",
       "        -1.87045037e-01],\n",
       "       [ 0.00000000e+00, -1.86350077e-01,  6.55712241e-03,\n",
       "         3.65331296e-01,  5.89876199e-01,  8.72550625e-01,\n",
       "         8.06855534e-01,  1.07909668e-01, -5.90775571e-02,\n",
       "        -2.75882434e-01,  1.06711435e-01, -1.79901105e-01,\n",
       "         4.84970756e-02,  7.33153008e-01,  7.29157044e-01,\n",
       "        -8.29203059e-02, -4.46250733e-02, -4.08666753e-01,\n",
       "        -8.79615802e-01, -8.65508528e-01,  6.05715092e-02,\n",
       "         6.63275276e-01,  2.18309827e-01, -1.01409319e-01,\n",
       "        -3.33797263e-02, -5.11855295e-01, -7.50760377e-01,\n",
       "        -3.34524097e-01,  5.01454352e-01,  7.85472396e-01,\n",
       "         6.85115376e-01, -4.72323823e-02,  0.00000000e+00,\n",
       "        -2.47722485e-01,  2.14338817e-01,  7.34423230e-01,\n",
       "         7.92062324e-01,  3.32698376e-01,  3.46559613e-01,\n",
       "         0.00000000e+00, -6.13436689e-02, -1.63786413e-01,\n",
       "        -2.40582589e-01,  7.06992889e-01,  5.17417722e-01,\n",
       "        -8.04223545e-01, -6.59436484e-01, -8.87416172e-02,\n",
       "        -3.54332626e-02, -3.58519607e-01, -7.80771001e-01,\n",
       "         5.61225128e-01, -6.86900906e-01, -1.39018412e+00,\n",
       "        -7.56293489e-01, -2.09785127e-01, -2.35964589e-02,\n",
       "        -1.90816818e-01,  2.04549111e-01, -2.42121374e-02,\n",
       "        -1.96928015e+00, -1.12283835e+00, -5.05669803e-01,\n",
       "        -1.96007519e-01],\n",
       "       [ 0.00000000e+00, -3.35016487e-01, -8.28466701e-01,\n",
       "        -7.85335435e-01,  1.05436145e-01,  7.50502048e-01,\n",
       "         2.76836461e+00,  5.49966718e+00, -5.90775571e-02,\n",
       "        -6.03145096e-01, -7.59350085e-01,  6.50647138e-01,\n",
       "        -1.97856508e-01, -1.11686970e-01,  3.35262854e+00,\n",
       "         6.71597443e+00, -4.46250733e-02, -5.87798113e-01,\n",
       "         4.63150330e-02,  1.27661027e-01, -9.28290432e-01,\n",
       "         3.12570504e-02,  3.46065046e+00,  4.67510007e+00,\n",
       "        -3.33797263e-02, -1.15519090e-02,  3.40650983e-01,\n",
       "        -3.72032687e-01, -4.16304962e-01,  1.13812777e+00,\n",
       "         1.45136788e+00,  2.07468239e+00,  0.00000000e+00,\n",
       "         5.57218127e-02,  1.21163845e-01, -6.46469565e-02,\n",
       "         2.91936367e-01,  7.70597738e-01,  8.22065062e-02,\n",
       "         0.00000000e+00, -6.13436689e-02, -3.74736366e-01,\n",
       "        -6.70345536e-01, -2.78717448e-01,  6.96909946e-01,\n",
       "        -1.93744865e-01, -6.98189395e-01, -8.87416172e-02,\n",
       "        -3.54332626e-02, -4.03574986e-01, -1.22990984e+00,\n",
       "        -3.71109865e-01,  4.56004289e-01, -1.07115217e+00,\n",
       "        -7.57435810e-01, -2.09785127e-01, -2.35964589e-02,\n",
       "        -2.99081347e-01, -7.95357643e-01, -2.79496319e-01,\n",
       "        -8.33059178e-01, -1.05058566e+00, -5.05669803e-01,\n",
       "        -1.96007519e-01],\n",
       "       [ 0.00000000e+00,  1.08770507e+00,  1.10649561e+00,\n",
       "         3.87986247e-01,  5.32162482e-01,  1.21042253e+00,\n",
       "         9.09763330e-01, -8.76977908e-02,  9.41429459e-03,\n",
       "         8.70134295e-01,  8.29365225e-01,  1.93304926e-03,\n",
       "        -3.37736930e-01, -9.40953711e-02,  2.02989487e-01,\n",
       "        -9.14595221e-02, -4.46250733e-02,  9.32486805e-01,\n",
       "         7.03098077e-01, -2.36752244e-01, -7.19123640e-01,\n",
       "        -1.01006515e+00, -4.97334502e-01, -1.14221844e-01,\n",
       "        -3.33797263e-02,  8.18744619e-01,  7.36691091e-01,\n",
       "         5.41561049e-01, -2.73469153e-01, -8.43389713e-01,\n",
       "        -5.71126987e-01, -4.72323823e-02,  0.00000000e+00,\n",
       "        -1.27228824e-01,  2.09992688e-02,  1.20322744e-01,\n",
       "        -2.90941042e-02, -5.74172135e-01, -6.45727984e-01,\n",
       "         0.00000000e+00, -6.13436689e-02, -4.18742871e-01,\n",
       "        -8.22847611e-01, -3.44005833e-01,  3.48268084e-01,\n",
       "        -2.35290627e-01, -6.38835048e-01, -8.87416172e-02,\n",
       "        -3.54332626e-02,  8.79646625e-02, -3.63090314e-01,\n",
       "        -5.50415324e-02,  4.93533200e-01, -5.70921470e-01,\n",
       "        -6.82661681e-01, -2.09785127e-01, -2.35964589e-02,\n",
       "         1.02710093e+00,  1.16544430e+00,  5.62332905e-01,\n",
       "        -8.10169868e-01, -9.50878259e-01, -5.00936885e-01,\n",
       "        -1.96007519e-01],\n",
       "       [ 0.00000000e+00, -3.35016487e-01, -1.02437757e+00,\n",
       "        -1.10045234e+00, -3.68205302e-03, -6.52251707e-01,\n",
       "        -3.76097967e-01, -1.25022923e-01, -5.90775571e-02,\n",
       "        -6.22065396e-01, -1.31278464e+00,  4.08173160e-01,\n",
       "        -3.44215385e-01, -1.06472251e+00, -3.67738248e-01,\n",
       "        -1.07920531e-01, -4.46250733e-02, -5.73031537e-01,\n",
       "         1.06543379e-01,  7.74292359e-01, -3.89097016e-01,\n",
       "        -4.23884834e-01,  4.40344439e-01,  2.11582368e-01,\n",
       "        -3.33797263e-02,  6.68145637e-01,  8.68223274e-01,\n",
       "        -5.08233065e-01, -4.98139347e-01,  4.75247419e-01,\n",
       "         9.82283289e-01,  8.45635664e-02,  0.00000000e+00,\n",
       "         1.87321984e+00,  1.10666670e+00,  2.32349130e-02,\n",
       "         4.15109268e-01,  9.29413360e-01,  7.52802798e-01,\n",
       "         0.00000000e+00,  6.23343120e-01,  1.79401229e+00,\n",
       "         8.27776065e-01,  8.74122289e-01,  1.15907662e+00,\n",
       "         4.42796722e-01, -3.96601935e-01, -8.87416172e-02,\n",
       "         3.60054768e-01,  3.54290866e-01, -7.40354207e-01,\n",
       "        -2.77921240e-01,  8.61249744e-01, -7.65510830e-01,\n",
       "        -7.52384054e-01, -2.09785127e-01,  2.39775197e-01,\n",
       "        -2.45883041e-01, -1.00294082e+00, -9.56265541e-01,\n",
       "         7.39546324e-02, -8.33928938e-01, -5.05669803e-01,\n",
       "        -1.96007519e-01],\n",
       "       [ 0.00000000e+00,  7.28677102e-01,  1.04837409e+00,\n",
       "         6.14743562e-01, -1.00208671e+00, -8.30630227e-01,\n",
       "        -4.09723921e-01, -1.25022923e-01,  1.90716255e-01,\n",
       "         1.00891862e+00,  5.45922804e-01,  1.45711747e-01,\n",
       "         1.82707135e-01, -7.92146319e-01, -4.95303347e-01,\n",
       "        -1.30433381e-01,  1.44060237e-01,  5.45794680e-01,\n",
       "        -3.42796262e-01, -1.04210573e-01,  6.88226591e-01,\n",
       "        -6.29553769e-01, -5.09095966e-01, -1.14221844e-01,\n",
       "        -3.33797263e-02, -4.63466627e-01, -9.90650717e-01,\n",
       "        -3.51695711e-01,  3.19820346e-01, -7.27163843e-01,\n",
       "        -6.04954228e-01, -4.72323823e-02,  0.00000000e+00,\n",
       "        -6.45322340e-01, -9.48395358e-01, -1.23939749e-02,\n",
       "         7.90605465e-02, -1.11501146e+00, -8.17704252e-01,\n",
       "         0.00000000e+00, -6.13436689e-02, -4.62218922e-01,\n",
       "        -4.58851606e-01,  4.77024830e-01,  1.41678601e-01,\n",
       "        -9.70284022e-01, -6.24372631e-01, -3.13099175e-02,\n",
       "        -3.54332626e-02,  1.99599165e-01,  5.19982150e-01,\n",
       "         8.00746885e-01,  5.41825569e-01,  3.96149256e-01,\n",
       "         9.35013699e-01,  1.24268167e+00, -2.35964589e-02,\n",
       "         7.02259404e-01,  9.36509875e-01,  5.48579133e-01,\n",
       "         3.66648451e-01,  1.03817667e+00,  1.97419344e+00,\n",
       "         1.75254133e+00],\n",
       "       [ 0.00000000e+00, -3.35016487e-01, -8.41081136e-01,\n",
       "        -1.28384753e-01, -5.28924744e-01, -7.38607382e-01,\n",
       "        -3.89560872e-01, -1.25022923e-01, -5.90775571e-02,\n",
       "        -6.04776930e-01, -5.69417835e-01,  6.43013714e-01,\n",
       "        -8.87999256e-01, -1.20153521e+00, -5.02525987e-01,\n",
       "        -1.30433381e-01, -4.46250733e-02, -5.04201723e-01,\n",
       "         4.83454158e-01,  3.92237939e-01, -1.02025400e+00,\n",
       "        -1.24194841e+00, -5.48805463e-01, -1.14221844e-01,\n",
       "        -3.33797263e-02, -1.07823220e-02,  7.47846823e-01,\n",
       "        -1.54855987e-01, -9.90038189e-01, -9.49394602e-01,\n",
       "        -6.00094562e-01, -4.72323823e-02,  0.00000000e+00,\n",
       "         3.56828644e-01,  1.11288445e+00,  6.04557588e-01,\n",
       "         3.25872476e-01,  3.03478894e-01, -2.33231520e-02,\n",
       "         0.00000000e+00, -6.13436689e-02,  1.05901402e-01,\n",
       "         1.17030276e+00,  5.17191893e-01, -3.72568750e-01,\n",
       "         3.39148626e-01,  1.37069134e+00,  6.74875395e-01,\n",
       "        -3.54332626e-02, -3.01166591e-01,  4.84370655e-01,\n",
       "         5.64997021e-01, -7.94167985e-01,  4.09747694e-01,\n",
       "         1.47582109e+00,  3.29501234e-01, -2.35964589e-02,\n",
       "        -2.99081347e-01, -7.94810109e-01, -2.80944017e-01,\n",
       "         6.74080443e-01,  1.07985216e+00,  6.13176064e-01,\n",
       "        -1.44936397e-01],\n",
       "       [ 0.00000000e+00,  2.79026239e-02,  4.82846895e-01,\n",
       "         3.69305759e-01,  1.95476298e-01,  3.93950117e-02,\n",
       "        -2.52539953e-01, -1.20177533e-01,  2.09443299e-02,\n",
       "         4.22606542e-01,  5.77080633e-01, -7.38524836e-01,\n",
       "        -9.02957917e-03,  4.48434144e-01, -1.25351542e-01,\n",
       "        -1.21326424e-01, -4.32795937e-03,  2.07017352e-01,\n",
       "        -1.52127900e-01, -4.91646116e-01,  3.41038741e-01,\n",
       "         4.33552784e-01, -1.20917035e-01, -1.14221844e-01,\n",
       "        -3.33797263e-02, -3.64169116e-01, -4.13323074e-01,\n",
       "         3.22585859e-01,  6.15239066e-01,  3.72123231e-01,\n",
       "        -1.84391194e-01, -4.72323823e-02,  0.00000000e+00,\n",
       "        -6.13880188e-01, -8.70865480e-01, -5.54731905e-01,\n",
       "        -2.72798488e-01,  5.17529735e-01,  2.08960858e-01,\n",
       "         0.00000000e+00, -6.13436689e-02, -4.16654747e-01,\n",
       "        -7.43383641e-01, -9.18395774e-01, -8.68286694e-01,\n",
       "         5.88155283e-01,  7.48234148e-01, -5.60334465e-02,\n",
       "        -3.54332626e-02,  9.44276465e-02,  8.96001185e-02,\n",
       "        -7.21056399e-01, -6.45927711e-01,  6.95545500e-01,\n",
       "         4.91683707e-01, -1.38298662e-01, -2.35964589e-02,\n",
       "        -2.20124087e-02,  4.26054588e-01,  4.57625626e-01,\n",
       "         5.25665414e-01,  4.79133806e-01, -5.16228581e-02,\n",
       "        -1.73038346e-01]])"
      ]
     },
     "execution_count": 39,
     "metadata": {},
     "output_type": "execute_result"
    }
   ],
   "source": [
    "model.cluster_centers_"
   ]
  },
  {
   "cell_type": "markdown",
   "metadata": {},
   "source": [
    "# MatplotLib Visualisation Example from SkLearn Documentation\n",
    "\n",
    "Code extracted from: \n",
    "\n",
    "https://scikit-learn.org/stable/auto_examples/cluster/plot_kmeans_digits.html"
   ]
  },
  {
   "cell_type": "code",
   "execution_count": 44,
   "metadata": {},
   "outputs": [
    {
     "name": "stdout",
     "output_type": "stream",
     "text": [
      "n_digits: 10, \t n_samples 1797, \t n_features 64\n",
      "__________________________________________________________________________________\n",
      "init\t\ttime\tinertia\thomo\tcompl\tv-meas\tARI\tAMI\tsilhouette\n",
      "k-means++\t5.06s\t69510\t0.610\t0.657\t0.633\t0.481\t0.629\t0.129\n",
      "random   \t5.91s\t69907\t0.633\t0.674\t0.653\t0.518\t0.649\t0.131\n",
      "__________________________________________________________________________________\n"
     ]
    },
    {
     "data": {
      "image/png": "[encoded data removed]",
      "text/plain": [
       "<Figure size 432x288 with 1 Axes>"
      ]
     },
     "metadata": {},
     "output_type": "display_data"
    }
   ],
   "source": [
    "from time import time\n",
    "import numpy as np\n",
    "import matplotlib.pyplot as plt\n",
    "\n",
    "from sklearn import metrics\n",
    "from sklearn.cluster import KMeans\n",
    "from sklearn.datasets import load_digits\n",
    "from sklearn.decomposition import PCA\n",
    "from sklearn.preprocessing import scale\n",
    "\n",
    "np.random.seed(42) # makes the random numbers predictable, like random_state in train splitting\n",
    "\n",
    "digits = load_digits()\n",
    "data = scale(digits.data)\n",
    "\n",
    "n_samples, n_features = data.shape\n",
    "n_digits = len(np.unique(digits.target))\n",
    "labels = digits.target\n",
    "\n",
    "sample_size = 300\n",
    "\n",
    "print(\"n_digits: %d, \\t n_samples %d, \\t n_features %d\"\n",
    "      % (n_digits, n_samples, n_features))\n",
    "\n",
    "\n",
    "print(82 * '_')\n",
    "print('init\\t\\ttime\\tinertia\\thomo\\tcompl\\tv-meas\\tARI\\tAMI\\tsilhouette')\n",
    "\n",
    "\n",
    "def bench_k_means(estimator, name, data):\n",
    "    t0 = time()\n",
    "    estimator.fit(data)\n",
    "    print('%-9s\\t%.2fs\\t%i\\t%.3f\\t%.3f\\t%.3f\\t%.3f\\t%.3f\\t%.3f'\n",
    "          % (name, (time() - t0), estimator.inertia_,\n",
    "             metrics.homogeneity_score(labels, estimator.labels_),\n",
    "             metrics.completeness_score(labels, estimator.labels_),\n",
    "             metrics.v_measure_score(labels, estimator.labels_),\n",
    "             metrics.adjusted_rand_score(labels, estimator.labels_),\n",
    "             metrics.adjusted_mutual_info_score(labels,  estimator.labels_),\n",
    "             metrics.silhouette_score(data, estimator.labels_,\n",
    "                                      metric='euclidean',\n",
    "                                      sample_size=sample_size)))\n",
    "\n",
    "bench_k_means(KMeans(init='k-means++', n_clusters=n_digits, n_init=10),\n",
    "              name=\"k-means++\", data=data)\n",
    "\n",
    "bench_k_means(KMeans(init='random', n_clusters=n_digits, n_init=10),\n",
    "              name=\"random\", data=data)\n",
    "\n",
    "\n",
    "print(82 * '_')\n",
    "\n",
    "# #############################################################################\n",
    "# Visualize the results on PCA-reduced data\n",
    "\n",
    "reduced_data = PCA(n_components=2).fit_transform(data)\n",
    "kmeans = KMeans(init='k-means++', n_clusters=n_digits, n_init=10)\n",
    "kmeans.fit(reduced_data)\n",
    "\n",
    "# Step size of the mesh. Decrease to increase the quality of the VQ.\n",
    "h = .02     # point in the mesh [x_min, x_max]x[y_min, y_max].\n",
    "\n",
    "# Plot the decision boundary. For that, we will assign a color to each\n",
    "x_min, x_max = reduced_data[:, 0].min() - 1, reduced_data[:, 0].max() + 1\n",
    "y_min, y_max = reduced_data[:, 1].min() - 1, reduced_data[:, 1].max() + 1\n",
    "xx, yy = np.meshgrid(np.arange(x_min, x_max, h), np.arange(y_min, y_max, h))\n",
    "\n",
    "# Obtain labels for each point in mesh. Use last trained model.\n",
    "Z = kmeans.predict(np.c_[xx.ravel(), yy.ravel()])\n",
    "\n",
    "# Put the result into a color plot\n",
    "Z = Z.reshape(xx.shape)\n",
    "plt.figure(1)\n",
    "plt.clf()\n",
    "plt.imshow(Z, interpolation='nearest',\n",
    "           extent=(xx.min(), xx.max(), yy.min(), yy.max()),\n",
    "           cmap=plt.cm.Paired,\n",
    "           aspect='auto', origin='lower')\n",
    "\n",
    "plt.plot(reduced_data[:, 0], reduced_data[:, 1], 'k.', markersize=2)\n",
    "# Plot the centroids as a white X\n",
    "centroids = kmeans.cluster_centers_\n",
    "plt.scatter(centroids[:, 0], centroids[:, 1],\n",
    "            marker='x', s=169, linewidths=3,\n",
    "            color='w', zorder=10)\n",
    "plt.title('K-means clustering on the digits dataset (PCA-reduced data)\\n'\n",
    "          'Centroids are marked with white cross')\n",
    "plt.xlim(x_min, x_max)\n",
    "plt.ylim(y_min, y_max)\n",
    "plt.xticks(())\n",
    "plt.yticks(())\n",
    "plt.show()"
   ]
  },
  {
   "cell_type": "code",
   "execution_count": null,
   "metadata": {},
   "outputs": [],
   "source": []
  }
 ],
 "metadata": {
  "kernelspec": {
   "display_name": "Python 3",
   "language": "python",
   "name": "python3"
  },
  "language_info": {
   "codemirror_mode": {
    "name": "ipython",
    "version": 3
   },
   "file_extension": ".py",
   "mimetype": "text/x-python",
   "name": "python",
   "nbconvert_exporter": "python",
   "pygments_lexer": "ipython3",
   "version": "3.7.7"
  }
 },
 "nbformat": 4,
 "nbformat_minor": 4
}
