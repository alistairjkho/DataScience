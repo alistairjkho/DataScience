{
 "cells": [
  {
   "cell_type": "markdown",
   "metadata": {},
   "source": [
    "# ML Linear Regression"
   ]
  },
  {
   "cell_type": "markdown",
   "metadata": {},
   "source": [
    "This kernel is based on Tech with Tim's YouTube Channel.\n",
    "\n",
    "https://www.youtube.com/watch?v=45ryDIPHdGg\n",
    "    \n",
    "Dataset from https://archive.ics.uci.edu/ml/datasets.php    "
   ]
  },
  {
   "cell_type": "markdown",
   "metadata": {},
   "source": [
    "## What is linear regression?\n",
    "\n",
    "* Regression is a method of modelling a target value based on independent predictors. \n",
    "* This method is mostly used for forecasting and finding out cause and effect relationship between variables.\n",
    "* Regression techniques mostly differ based on the number of independent variables and the type of relationship between the independent and dependent variables.\n",
    "\n",
    "<img src = https://mlfromscratch.com/content/images/2020/01/linearRegression2-3.png width = 500>\n",
    "\n",
    "More information on linear regression can be found in this [Medium Article.](https://towardsdatascience.com/introduction-to-machine-learning-algorithms-linear-regression-14c4e325882a)"
   ]
  },
  {
   "cell_type": "markdown",
   "metadata": {},
   "source": [
    "# In this kernel, we will be looking at a dataset with certain features if it can predict a student's grade."
   ]
  },
  {
   "cell_type": "code",
   "execution_count": 5,
   "metadata": {},
   "outputs": [],
   "source": [
    "# Importing libraries\n",
    "\n",
    "# Data analysis\n",
    "import pandas as pd\n",
    "import numpy as np\n",
    "import pickle\n",
    "import matplotlib.pyplot as plt\n",
    "import seaborn as sns\n",
    "from matplotlib import style\n",
    "\n",
    "# Machine learning\n",
    "import sklearn\n",
    "from sklearn import linear_model\n",
    "from sklearn.utils import shuffle"
   ]
  },
  {
   "cell_type": "code",
   "execution_count": 6,
   "metadata": {},
   "outputs": [
    {
     "data": {
      "text/html": [
       "<div>\n",
       "<style scoped>\n",
       "    .dataframe tbody tr th:only-of-type {\n",
       "        vertical-align: middle;\n",
       "    }\n",
       "\n",
       "    .dataframe tbody tr th {\n",
       "        vertical-align: top;\n",
       "    }\n",
       "\n",
       "    .dataframe thead th {\n",
       "        text-align: right;\n",
       "    }\n",
       "</style>\n",
       "<table border=\"1\" class=\"dataframe\">\n",
       "  <thead>\n",
       "    <tr style=\"text-align: right;\">\n",
       "      <th></th>\n",
       "      <th>G1</th>\n",
       "      <th>G2</th>\n",
       "      <th>G3</th>\n",
       "      <th>studytime</th>\n",
       "      <th>failures</th>\n",
       "      <th>absences</th>\n",
       "    </tr>\n",
       "  </thead>\n",
       "  <tbody>\n",
       "    <tr>\n",
       "      <th>0</th>\n",
       "      <td>5</td>\n",
       "      <td>6</td>\n",
       "      <td>6</td>\n",
       "      <td>2</td>\n",
       "      <td>0</td>\n",
       "      <td>6</td>\n",
       "    </tr>\n",
       "    <tr>\n",
       "      <th>1</th>\n",
       "      <td>5</td>\n",
       "      <td>5</td>\n",
       "      <td>6</td>\n",
       "      <td>2</td>\n",
       "      <td>0</td>\n",
       "      <td>4</td>\n",
       "    </tr>\n",
       "    <tr>\n",
       "      <th>2</th>\n",
       "      <td>7</td>\n",
       "      <td>8</td>\n",
       "      <td>10</td>\n",
       "      <td>2</td>\n",
       "      <td>3</td>\n",
       "      <td>10</td>\n",
       "    </tr>\n",
       "    <tr>\n",
       "      <th>3</th>\n",
       "      <td>15</td>\n",
       "      <td>14</td>\n",
       "      <td>15</td>\n",
       "      <td>3</td>\n",
       "      <td>0</td>\n",
       "      <td>2</td>\n",
       "    </tr>\n",
       "    <tr>\n",
       "      <th>4</th>\n",
       "      <td>6</td>\n",
       "      <td>10</td>\n",
       "      <td>10</td>\n",
       "      <td>2</td>\n",
       "      <td>0</td>\n",
       "      <td>4</td>\n",
       "    </tr>\n",
       "  </tbody>\n",
       "</table>\n",
       "</div>"
      ],
      "text/plain": [
       "   G1  G2  G3  studytime  failures  absences\n",
       "0   5   6   6          2         0         6\n",
       "1   5   5   6          2         0         4\n",
       "2   7   8  10          2         3        10\n",
       "3  15  14  15          3         0         2\n",
       "4   6  10  10          2         0         4"
      ]
     },
     "execution_count": 6,
     "metadata": {},
     "output_type": "execute_result"
    }
   ],
   "source": [
    "# Reading the data\n",
    "\n",
    "data = pd.read_csv('student-mat.csv', sep=';')\n",
    "\n",
    "data = data[['G1', 'G2', 'G3', 'studytime', 'failures', 'absences']]  # attributes\n",
    "\n",
    "# G1 is the grades achieved in term 1, G2 is the grades achieved in term 2, G3 is the final grade which is our target.\n",
    "\n",
    "data.head()"
   ]
  },
  {
   "cell_type": "code",
   "execution_count": 8,
   "metadata": {},
   "outputs": [
    {
     "data": {
      "text/plain": [
       "<seaborn.axisgrid.JointGrid at 0x2669010a108>"
      ]
     },
     "execution_count": 8,
     "metadata": {},
     "output_type": "execute_result"
    },
    {
     "data": {
      "image/png": "[encoded data removed]",
      "text/plain": [
       "<Figure size 432x432 with 3 Axes>"
      ]
     },
     "metadata": {
      "needs_background": "light"
     },
     "output_type": "display_data"
    }
   ],
   "source": [
    "# Plotting the data to see what it looks like\n",
    "\n",
    "sns.jointplot(data=data, y='G3', x='G1')"
   ]
  },
  {
   "cell_type": "code",
   "execution_count": 9,
   "metadata": {},
   "outputs": [
    {
     "data": {
      "text/plain": [
       "<seaborn.axisgrid.JointGrid at 0x26690286dc8>"
      ]
     },
     "execution_count": 9,
     "metadata": {},
     "output_type": "execute_result"
    },
    {
     "data": {
      "image/png": "[encoded data removed]",
      "text/plain": [
       "<Figure size 432x432 with 3 Axes>"
      ]
     },
     "metadata": {
      "needs_background": "light"
     },
     "output_type": "display_data"
    }
   ],
   "source": [
    "sns.jointplot(data=data, y='G3', x='absences')"
   ]
  },
  {
   "cell_type": "code",
   "execution_count": 10,
   "metadata": {},
   "outputs": [
    {
     "name": "stdout",
     "output_type": "stream",
     "text": [
      "                 G1        G2        G3  studytime  failures  absences\n",
      "G1         1.000000  0.852118  0.801468   0.160612 -0.354718 -0.031003\n",
      "G2         0.852118  1.000000  0.904868   0.135880 -0.355896 -0.031777\n",
      "G3         0.801468  0.904868  1.000000   0.097820 -0.360415  0.034247\n",
      "studytime  0.160612  0.135880  0.097820   1.000000 -0.173563 -0.062700\n",
      "failures  -0.354718 -0.355896 -0.360415  -0.173563  1.000000  0.063726\n",
      "absences  -0.031003 -0.031777  0.034247  -0.062700  0.063726  1.000000\n"
     ]
    }
   ],
   "source": [
    "# Correlation between parameters\n",
    "\n",
    "print(data.corr())"
   ]
  },
  {
   "cell_type": "code",
   "execution_count": 11,
   "metadata": {},
   "outputs": [
    {
     "data": {
      "text/plain": [
       "<matplotlib.axes._subplots.AxesSubplot at 0x266913e61c8>"
      ]
     },
     "execution_count": 11,
     "metadata": {},
     "output_type": "execute_result"
    },
    {
     "data": {
      "image/png": "[encoded data removed]",
      "text/plain": [
       "<Figure size 432x288 with 2 Axes>"
      ]
     },
     "metadata": {
      "needs_background": "light"
     },
     "output_type": "display_data"
    }
   ],
   "source": [
    "sns.heatmap(data.corr(), annot=True)"
   ]
  },
  {
   "cell_type": "code",
   "execution_count": 12,
   "metadata": {},
   "outputs": [],
   "source": [
    "#print(data.head())\n",
    "\n",
    "predict = 'G3' # label for attributes\n",
    "\n",
    "x = np.array(data.drop([predict], 1)) \n",
    "y = np.array(data[predict])"
   ]
  },
  {
   "cell_type": "markdown",
   "metadata": {},
   "source": [
    "# Machine Learning"
   ]
  },
  {
   "cell_type": "code",
   "execution_count": 50,
   "metadata": {},
   "outputs": [
    {
     "name": "stdout",
     "output_type": "stream",
     "text": [
      "Acc: \n",
      " 0.8195461299548163\n",
      "Co: \n",
      " [ 0.16993715  0.97017613 -0.19561695 -0.26930702  0.03548832]\n",
      "Intercept: \n",
      " -1.5631015481529182\n"
     ]
    }
   ],
   "source": [
    "# Split the data into 4 different arrays\n",
    "# This section can be removed if loading the model\n",
    "\n",
    "x_train, x_test, y_train, y_test = sklearn.model_selection.train_test_split(x, y, test_size=0.1, random_state=1) # split 10 percent of data into test samples\n",
    "\n",
    "linear = linear_model.LinearRegression()\n",
    "\n",
    "linear.fit(x_train, y_train) # fits the data to find a best fit line for linear regression\n",
    "acc = linear.score(x_test, y_test)\n",
    "print('Acc: \\n', acc)\n",
    "print('Co: \\n', linear.coef_) # m value in y=mx+c\n",
    "print('Intercept: \\n', linear.intercept_)"
   ]
  },
  {
   "cell_type": "markdown",
   "metadata": {},
   "source": [
    "# Saving the model\n",
    "* Save the model in pickle format so that re-training isn't required - saves time for large repetitions of training\n",
    "* Save the highest scoring model"
   ]
  },
  {
   "cell_type": "code",
   "execution_count": 51,
   "metadata": {},
   "outputs": [],
   "source": [
    "with open('studentmodel.pickle', 'wb') as f:\n",
    "    pickle.dump(linear, f)"
   ]
  },
  {
   "cell_type": "markdown",
   "metadata": {},
   "source": [
    "# Loading the model"
   ]
  },
  {
   "cell_type": "code",
   "execution_count": 13,
   "metadata": {},
   "outputs": [],
   "source": [
    "pickle_in = open('studentmodel.pickle', 'rb')\n",
    "linear = pickle.load(pickle_in)"
   ]
  },
  {
   "cell_type": "markdown",
   "metadata": {},
   "source": [
    "# Predict grade with test data, validation"
   ]
  },
  {
   "cell_type": "code",
   "execution_count": 15,
   "metadata": {},
   "outputs": [],
   "source": [
    "x_train, x_test, y_train, y_test = sklearn.model_selection.train_test_split(x, y, test_size=0.1, random_state=1) # split 10 percent of data into test samples\n",
    "predictions = linear.predict(x_test)"
   ]
  },
  {
   "cell_type": "code",
   "execution_count": 16,
   "metadata": {},
   "outputs": [
    {
     "name": "stdout",
     "output_type": "stream",
     "text": [
      "5.025554275365043 [6 7 2 3 0] 0\n",
      "10.100082499170002 [10 10  2  0 17] 10\n",
      "6.826789473724615 [ 6  8  1  3 16] 8\n",
      "8.817276977307413 [9 9 1 0 8] 10\n",
      "9.795885663336655 [11 10  1  0  0] 10\n",
      "11.259066106850504 [12 11  1  1 16] 12\n",
      "7.611172797990832 [ 9  8  2  1 15] 8\n",
      "12.371794340256166 [14 12  1  0  4] 11\n",
      "11.848208511786439 [11 12  1  0  2] 11\n",
      "7.00115858103514 [9 8 4 0 2] 8\n",
      "12.402734350058733 [14 12  2  0 10] 11\n",
      "14.62340495648506 [15 14  2  1 20] 13\n",
      "6.1765703715729625 [ 6  7  2  1 15] 8\n",
      "7.370108670945282 [5 9 2 2 6] 7\n",
      "8.315460029203518 [8 9 2 0 4] 10\n",
      "10.882197576686295 [13 11  2  0  0] 10\n",
      "15.515014666773961 [15 15  2  0 10] 15\n",
      "16.284531993361156 [14 16  1  0  3] 16\n",
      "5.838083450167669 [7 7 3 0 0] 8\n",
      "9.524358367786256 [10 10  2  0  2] 10\n",
      "11.155454402717076 [12 11  2  0 11] 11\n",
      "18.53391903757827 [18 18  3  0  5] 19\n",
      "9.303239844669493 [ 8 10  2  0  4] 10\n",
      "12.037260521343038 [10 12  2  0 16] 11\n",
      "15.426224285581409 [16 15  3  0  9] 16\n",
      "4.361978774633026 [ 6  5  1  1 14] 5\n",
      "11.03572401172196 [13 11  2  0  4] 11\n",
      "8.009378041961302 [10  8  2  0 14] 9\n",
      "9.005358104034897 [ 6 10  2  0  4] 10\n",
      "12.918339863302565 [15 13  3  2 14] 13\n",
      "12.038325150128813 [14 12  2  1  8] 12\n",
      "11.721036521834971 [12 12  2  0  0] 11\n",
      "6.587328691734381 [8 8 1 3 2] 10\n",
      "11.044895141158696 [11 11  2  0 12] 11\n",
      "13.395099730243077 [13 13  2  0 14] 14\n",
      "7.667990411579879 [7 9 2 2 6] 8\n",
      "10.384966193300766 [11 11  3  0  0] 10\n",
      "8.39119048892041 [ 7 10  4  1  2] 10\n",
      "6.923592041127893 [10  8  1  3  3] 7\n",
      "10.661079053569532 [11 11  2  0  2] 10\n"
     ]
    }
   ],
   "source": [
    "for x in range (len(predictions)):\n",
    "    print(predictions[x], x_test[x], y_test[x]) # Predicted value, attributes, actual value"
   ]
  },
  {
   "cell_type": "markdown",
   "metadata": {},
   "source": [
    "# Using the best model"
   ]
  },
  {
   "cell_type": "code",
   "execution_count": 68,
   "metadata": {},
   "outputs": [
    {
     "name": "stdout",
     "output_type": "stream",
     "text": [
      "Acc: 0.6766654773829215\n",
      "0.6766654773829215\n",
      "Acc: 0.8975433684725419\n",
      "0.8975433684725419\n",
      "Acc: 0.9075761383617268\n",
      "0.9075761383617268\n",
      "Acc: 0.7052647272762789\n",
      "Acc: 0.8710160478283665\n",
      "Acc: 0.9058852608623742\n",
      "Acc: 0.8879946254746902\n",
      "Acc: 0.9538208710643694\n",
      "0.9538208710643694\n",
      "Acc: 0.7386784067020971\n",
      "Acc: 0.6986616380599112\n",
      "Acc: 0.851505279730894\n",
      "Acc: 0.8595995161901916\n",
      "Acc: 0.804298925273073\n",
      "Acc: 0.7996912916085357\n",
      "Acc: 0.8280517817152739\n",
      "Acc: 0.888399238940604\n",
      "Acc: 0.7229794266211902\n",
      "Acc: 0.7579077345164822\n",
      "Acc: 0.877740116011593\n",
      "Acc: 0.9050015827864911\n",
      "Acc: 0.8026652033292125\n",
      "Acc: 0.8796722523863332\n",
      "Acc: 0.8755472808694902\n",
      "Acc: 0.6840747265932186\n",
      "Acc: 0.7997312022929378\n",
      "Acc: 0.8370004376189873\n",
      "Acc: 0.7800491033001626\n",
      "Acc: 0.8296381947458857\n",
      "Acc: 0.8099245660959794\n",
      "Acc: 0.7871551942655672\n"
     ]
    }
   ],
   "source": [
    "best = 0\n",
    "for _ in range(30): # Repeats up to 30 times to find the best accuracy value score\n",
    "    x_train, x_test, y_train, y_test = sklearn.model_selection.train_test_split(x, y, test_size=0.1)\n",
    "    linear = linear_model.LinearRegression()\n",
    "    linear.fit(x_train, y_train)\n",
    "    acc = linear.score(x_test, y_test)\n",
    "    print('Acc:', acc)\n",
    "    \n",
    "    # Saves the overall best accuracy\n",
    "    if acc > best: \n",
    "        best = acc\n",
    "        with open('studentmodel.pickle', 'wb') as f:\n",
    "            pickle.dump(linear, f)\n",
    "            print (acc)"
   ]
  },
  {
   "cell_type": "code",
   "execution_count": 17,
   "metadata": {},
   "outputs": [],
   "source": [
    "# Then you can load the best model\n",
    "\n",
    "pickle_in = open('studentmodel.pickle', 'rb')\n",
    "linear = pickle.load(pickle_in)"
   ]
  },
  {
   "cell_type": "markdown",
   "metadata": {},
   "source": [
    "# Plotting the data"
   ]
  },
  {
   "cell_type": "code",
   "execution_count": 18,
   "metadata": {},
   "outputs": [
    {
     "data": {
      "image/png": "[encoded data removed]",
      "text/plain": [
       "<Figure size 432x288 with 1 Axes>"
      ]
     },
     "metadata": {},
     "output_type": "display_data"
    }
   ],
   "source": [
    "p = 'G1'\n",
    "style.use('ggplot')\n",
    "plt.scatter(data[p], data['G3'])\n",
    "plt.xlabel(p)\n",
    "plt.ylabel('Final Grade')\n",
    "plt.show()"
   ]
  },
  {
   "cell_type": "code",
   "execution_count": 80,
   "metadata": {},
   "outputs": [
    {
     "data": {
      "image/png": "[encoded data removed]",
      "text/plain": [
       "<Figure size 432x288 with 1 Axes>"
      ]
     },
     "metadata": {},
     "output_type": "display_data"
    }
   ],
   "source": [
    "p = 'G2'\n",
    "style.use('ggplot')\n",
    "plt.scatter(data[p], data['G3'])\n",
    "plt.xlabel(p)\n",
    "plt.ylabel('Final Grade')\n",
    "plt.show()"
   ]
  },
  {
   "cell_type": "markdown",
   "metadata": {},
   "source": [
    "# There is a lot more to linear regression than a simple line. If there is overfitting of the data (which normally happens in real data), regularization is used alongside linear regression which is ridge and lasso regression, to help reduce the overfitting of the training data.\n",
    "\n",
    "More information can be found here: https://towardsdatascience.com/regularization-in-machine-learning-76441ddcf99a"
   ]
  },
  {
   "cell_type": "code",
   "execution_count": null,
   "metadata": {},
   "outputs": [],
   "source": []
  }
 ],
 "metadata": {
  "kernelspec": {
   "display_name": "Python 3",
   "language": "python",
   "name": "python3"
  },
  "language_info": {
   "codemirror_mode": {
    "name": "ipython",
    "version": 3
   },
   "file_extension": ".py",
   "mimetype": "text/x-python",
   "name": "python",
   "nbconvert_exporter": "python",
   "pygments_lexer": "ipython3",
   "version": "3.7.7"
  }
 },
 "nbformat": 4,
 "nbformat_minor": 4
}
